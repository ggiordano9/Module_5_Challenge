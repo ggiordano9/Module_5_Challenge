{
 "cells": [
  {
   "cell_type": "markdown",
   "metadata": {},
   "source": [
    "# Financial Planning with APIs and Simulations\n",
    "\n",
    "In this Challenge, you’ll create two financial analysis tools by using a single Jupyter notebook:\n",
    "\n",
    "Part 1: A financial planner for emergencies. The members will be able to use this tool to visualize their current savings. The members can then determine if they have enough reserves for an emergency fund.\n",
    "\n",
    "Part 2: A financial planner for retirement. This tool will forecast the performance of their retirement portfolio in 30 years. To do this, the tool will make an Alpaca API call via the Alpaca SDK to get historical price data for use in Monte Carlo simulations.\n",
    "\n",
    "You’ll use the information from the Monte Carlo simulation to answer questions about the portfolio in your Jupyter notebook.\n",
    "\n"
   ]
  },
  {
   "cell_type": "code",
   "execution_count": 1,
   "metadata": {},
   "outputs": [],
   "source": [
    "# Import the required libraries and dependencies\n",
    "import os\n",
    "import requests\n",
    "import json\n",
    "import pandas as pd\n",
    "from dotenv import load_dotenv\n",
    "import alpaca_trade_api as tradeapi\n",
    "from MCForecastTools import MCSimulation\n",
    "\n",
    "%matplotlib inline"
   ]
  },
  {
   "cell_type": "code",
   "execution_count": 2,
   "metadata": {},
   "outputs": [],
   "source": [
    "# Load the environment variables from the .env file\n",
    "#by calling the load_dotenv function\n",
    "load_dotenv()\n",
    "alpaca_api_key = os.getenv(\"ALPACA_API_KEY\")\n",
    "alpaca_secret_key = os.getenv(\"ALPACA_SECRET_KEY\")\n"
   ]
  },
  {
   "cell_type": "markdown",
   "metadata": {},
   "source": [
    "## Part 1: Create a Financial Planner for Emergencies"
   ]
  },
  {
   "cell_type": "markdown",
   "metadata": {},
   "source": [
    "### Evaluate the Cryptocurrency Wallet by Using the Requests Library\n",
    "\n",
    "In this section, you’ll determine the current value of a member’s cryptocurrency wallet. You’ll collect the current prices for the Bitcoin and Ethereum cryptocurrencies by using the Python Requests library. For the prototype, you’ll assume that the member holds the 1.2 Bitcoins (BTC) and 5.3 Ethereum coins (ETH). To do all this, complete the following steps:\n",
    "\n",
    "1. Create a variable named `monthly_income`, and set its value to `12000`.\n",
    "\n",
    "2. Use the Requests library to get the current price (in US dollars) of Bitcoin (BTC) and Ethereum (ETH) by using the API endpoints that the starter code supplies.\n",
    "\n",
    "3. Navigate the JSON response object to access the current price of each coin, and store each in a variable.\n",
    "\n",
    "    > **Hint** Note the specific identifier for each cryptocurrency in the API JSON response. The Bitcoin identifier is `1`, and the Ethereum identifier is `1027`.\n",
    "\n",
    "4. Calculate the value, in US dollars, of the current amount of each cryptocurrency and of the entire cryptocurrency wallet.\n",
    "\n"
   ]
  },
  {
   "cell_type": "code",
   "execution_count": 3,
   "metadata": {},
   "outputs": [],
   "source": [
    "# The current number of coins for each cryptocurrency asset held in the portfolio.\n",
    "btc_coins = 1.2\n",
    "eth_coins = 5.3"
   ]
  },
  {
   "cell_type": "markdown",
   "metadata": {},
   "source": [
    "#### Step 1: Create a variable named `monthly_income`, and set its value to `12000`."
   ]
  },
  {
   "cell_type": "code",
   "execution_count": 4,
   "metadata": {},
   "outputs": [],
   "source": [
    "# The monthly amount for the member's household income\n",
    "monthly_income = 12000"
   ]
  },
  {
   "cell_type": "markdown",
   "metadata": {},
   "source": [
    "#### Review the endpoint URLs for the API calls to Free Crypto API in order to get the current pricing information for both BTC and ETH."
   ]
  },
  {
   "cell_type": "code",
   "execution_count": 5,
   "metadata": {},
   "outputs": [],
   "source": [
    "# The Free Crypto API Call endpoint URLs for the held cryptocurrency assets\n",
    "btc_url = \"https://api.alternative.me/v2/ticker/Bitcoin/?convert=USD\"\n",
    "eth_url = \"https://api.alternative.me/v2/ticker/Ethereum/?convert=USD\""
   ]
  },
  {
   "cell_type": "markdown",
   "metadata": {},
   "source": [
    "#### Step 2. Use the Requests library to get the current price (in US dollars) of Bitcoin (BTC) and Ethereum (ETH) by using the API endpoints that the starter code supplied."
   ]
  },
  {
   "cell_type": "code",
   "execution_count": 6,
   "metadata": {},
   "outputs": [
    {
     "data": {
      "text/plain": [
       "'{\\n   \"data\": {\\n      \"1\": {\\n         \"circulating_supply\": 18762937,\\n         \"id\": 1,\\n         \"last_updated\": 1626911673,\\n         \"max_supply\": 21000000,\\n         \"name\": \"Bitcoin\",\\n         \"quotes\": {\\n            \"USD\": {\\n               \"market_cap\": 605357009417,\\n               \"percent_change_1h\": 0.824219829609813,\\n               \"percent_change_24h\": 8.04712760580599,\\n               \"percent_change_7d\": -0.895456106078854,\\n               \"percentage_change_1h\": 0.824219829609813,\\n               \"percentage_change_24h\": 8.04712760580599,\\n               \"percentage_change_7d\": -0.895456106078854,\\n               \"price\": 32384.0,\\n               \"volume_24h\": 29070652060\\n            }\\n         },\\n         \"rank\": 1,\\n         \"symbol\": \"BTC\",\\n         \"total_supply\": 18762937,\\n         \"website_slug\": \"bitcoin\"\\n      }\\n   },\\n   \"metadata\": {\\n      \"error\": null,\\n      \"num_cryptocurrencies\": 3116,\\n      \"timestamp\": 1626911673\\n   }\\n}'"
      ]
     },
     "execution_count": 6,
     "metadata": {},
     "output_type": "execute_result"
    }
   ],
   "source": [
    "# Using the Python requests library, make an API call to access the current price of BTC\n",
    "btc_response = requests.get(btc_url).json()\n",
    "\n",
    "\n",
    "# Use the json.dumps function to review the response data from the API call\n",
    "# Use the indent and sort_keys parameters to make the response object readable\n",
    "json.dumps(btc_response, indent=3, sort_keys=True)\n",
    "#print(btc_response)\n"
   ]
  },
  {
   "cell_type": "code",
   "execution_count": 7,
   "metadata": {},
   "outputs": [
    {
     "name": "stdout",
     "output_type": "stream",
     "text": [
      "{\n",
      "   \"data\": {\n",
      "      \"1027\": {\n",
      "         \"circulating_supply\": 116788392,\n",
      "         \"id\": 1027,\n",
      "         \"last_updated\": 1626911671,\n",
      "         \"max_supply\": 0,\n",
      "         \"name\": \"Ethereum\",\n",
      "         \"quotes\": {\n",
      "            \"USD\": {\n",
      "               \"market_cap\": 233005814488,\n",
      "               \"percent_change_1h\": 1.18013810800747,\n",
      "               \"percent_change_24h\": 11.6297262865351,\n",
      "               \"percent_change_7d\": 3.05127838259465,\n",
      "               \"percentage_change_1h\": 1.18013810800747,\n",
      "               \"percentage_change_24h\": 11.6297262865351,\n",
      "               \"percentage_change_7d\": 3.05127838259465,\n",
      "               \"price\": 2003.72,\n",
      "               \"volume_24h\": 25849497421\n",
      "            }\n",
      "         },\n",
      "         \"rank\": 2,\n",
      "         \"symbol\": \"ETH\",\n",
      "         \"total_supply\": 116788392,\n",
      "         \"website_slug\": \"ethereum\"\n",
      "      }\n",
      "   },\n",
      "   \"metadata\": {\n",
      "      \"error\": null,\n",
      "      \"num_cryptocurrencies\": 3116,\n",
      "      \"timestamp\": 1626911671\n",
      "   }\n",
      "}\n",
      "{'data': {'1027': {'id': 1027, 'name': 'Ethereum', 'symbol': 'ETH', 'website_slug': 'ethereum', 'rank': 2, 'circulating_supply': 116788392, 'total_supply': 116788392, 'max_supply': 0, 'quotes': {'USD': {'price': 2003.72, 'volume_24h': 25849497421, 'market_cap': 233005814488, 'percentage_change_1h': 1.18013810800747, 'percentage_change_24h': 11.6297262865351, 'percentage_change_7d': 3.05127838259465, 'percent_change_1h': 1.18013810800747, 'percent_change_24h': 11.6297262865351, 'percent_change_7d': 3.05127838259465}}, 'last_updated': 1626911671}}, 'metadata': {'timestamp': 1626911671, 'num_cryptocurrencies': 3116, 'error': None}}\n"
     ]
    }
   ],
   "source": [
    "# Using the Python requests library, make an API call to access the current price ETH\n",
    "eth_response = requests.get(eth_url).json()\n",
    "\n",
    "\n",
    "# Use the json.dumps function to review the response data from the API call\n",
    "# Use the indent and sort_keys parameters to make the response object readable\n",
    "print(json.dumps(eth_response, indent=3, sort_keys=True))\n",
    "print(eth_response)\n",
    "\n"
   ]
  },
  {
   "cell_type": "markdown",
   "metadata": {},
   "source": [
    "#### Step 3: Navigate the JSON response object to access the current price of each coin, and store each in a variable."
   ]
  },
  {
   "cell_type": "code",
   "execution_count": 8,
   "metadata": {},
   "outputs": [
    {
     "name": "stdout",
     "output_type": "stream",
     "text": [
      "32384.0\n"
     ]
    }
   ],
   "source": [
    "# Navigate the BTC response object to access the current price of BTC\n",
    "btc_price = btc_response[\"data\"][\"1\"][\"quotes\"][\"USD\"][\"price\"]\n",
    "\n",
    "# Print the current price of BTC\n",
    "print(btc_price)"
   ]
  },
  {
   "cell_type": "code",
   "execution_count": 9,
   "metadata": {},
   "outputs": [
    {
     "name": "stdout",
     "output_type": "stream",
     "text": [
      "2003.72\n"
     ]
    }
   ],
   "source": [
    "# Navigate the BTC response object to access the current price of ETH\n",
    "eth_price = eth_response[\"data\"][\"1027\"][\"quotes\"][\"USD\"][\"price\"]\n",
    "\n",
    "# Print the current price of ETH\n",
    "print(eth_price)"
   ]
  },
  {
   "cell_type": "markdown",
   "metadata": {},
   "source": [
    "### Step 4: Calculate the value, in US dollars, of the current amount of each cryptocurrency and of the entire cryptocurrency wallet."
   ]
  },
  {
   "cell_type": "code",
   "execution_count": 10,
   "metadata": {},
   "outputs": [
    {
     "name": "stdout",
     "output_type": "stream",
     "text": [
      "38860.799999999996\n"
     ]
    }
   ],
   "source": [
    "# Compute the current value of the BTC holding \n",
    "#btc_volume = btc_response[\"data\"][\"1\"][\"quotes\"][\"USD\"][\"volume_24h\"]\n",
    "\n",
    "btc_value = btc_price * btc_coins # YOUR CODE HERE\n",
    "\n",
    "# Print current value of your holding in BTC\n",
    "print(btc_value)"
   ]
  },
  {
   "cell_type": "code",
   "execution_count": 11,
   "metadata": {},
   "outputs": [
    {
     "name": "stdout",
     "output_type": "stream",
     "text": [
      "10619.716\n"
     ]
    }
   ],
   "source": [
    "# Compute the current value of the ETH holding \n",
    "eth_volume = eth_response[\"data\"][\"1027\"][\"quotes\"][\"USD\"][\"volume_24h\"]\n",
    "\n",
    "eth_value = eth_price * eth_coins\n",
    "\n",
    "# Print current value of your holding in ETH\n",
    "print(eth_value)"
   ]
  },
  {
   "cell_type": "code",
   "execution_count": 12,
   "metadata": {},
   "outputs": [
    {
     "name": "stdout",
     "output_type": "stream",
     "text": [
      "49480.515999999996\n"
     ]
    }
   ],
   "source": [
    "# Compute the total value of the cryptocurrency wallet\n",
    "# Add the value of the BTC holding to the value of the ETH holding\n",
    "total_crypto_wallet = eth_value + btc_value\n",
    "\n",
    "# Print current cryptocurrency wallet balance\n",
    "print(total_crypto_wallet)"
   ]
  },
  {
   "cell_type": "markdown",
   "metadata": {},
   "source": [
    "### Evaluate the Stock and Bond Holdings by Using the Alpaca SDK\n",
    "\n",
    "In this section, you’ll determine the current value of a member’s stock and bond holdings. You’ll make an API call to Alpaca via the Alpaca SDK to get the current closing prices of the SPDR S&P 500 ETF Trust (ticker: SPY) and of the iShares Core US Aggregate Bond ETF (ticker: AGG). For the prototype, assume that the member holds 110 shares of SPY, which represents the stock portion of their portfolio, and 200 shares of AGG, which represents the bond portion. To do all this, complete the following steps:\n",
    "\n",
    "1. In the `Starter_Code` folder, create an environment file (`.env`) to store the values of your Alpaca API key and Alpaca secret key.\n",
    "\n",
    "2. Set the variables for the Alpaca API and secret keys. Using the Alpaca SDK, create the Alpaca `tradeapi.REST` object. In this object, include the parameters for the Alpaca API key, the secret key, and the version number.\n",
    "\n",
    "3. Set the following parameters for the Alpaca API call:\n",
    "\n",
    "    - `tickers`: Use the tickers for the member’s stock and bond holdings.\n",
    "\n",
    "    - `timeframe`: Use a time frame of one day.\n",
    "\n",
    "    - `start_date` and `end_date`: Use the same date for these parameters, and format them with the date of the previous weekday (or `2020-08-07`). This is because you want the one closing price for the most-recent trading day.\n",
    "\n",
    "4. Get the current closing prices for `SPY` and `AGG` by using the Alpaca `get_barset` function. Format the response as a Pandas DataFrame by including the `df` property at the end of the `get_barset` function.\n",
    "\n",
    "5. Navigating the Alpaca response DataFrame, select the `SPY` and `AGG` closing prices, and store them as variables.\n",
    "\n",
    "6. Calculate the value, in US dollars, of the current amount of shares in each of the stock and bond portions of the portfolio, and print the results.\n"
   ]
  },
  {
   "cell_type": "markdown",
   "metadata": {},
   "source": [
    "#### Review the total number of shares held in both (SPY) and (AGG)."
   ]
  },
  {
   "cell_type": "code",
   "execution_count": 13,
   "metadata": {},
   "outputs": [],
   "source": [
    "# Current amount of shares held in both the stock (SPY) and bond (AGG) portion of the portfolio.\n",
    "spy_shares = 110\n",
    "agg_shares = 200\n"
   ]
  },
  {
   "cell_type": "markdown",
   "metadata": {},
   "source": [
    "#### Step 1: In the `Starter_Code` folder, create an environment file (`.env`) to store the values of your Alpaca API key and Alpaca secret key."
   ]
  },
  {
   "cell_type": "markdown",
   "metadata": {},
   "source": [
    "#### Step 2: Set the variables for the Alpaca API and secret keys. Using the Alpaca SDK, create the Alpaca `tradeapi.REST` object. In this object, include the parameters for the Alpaca API key, the secret key, and the version number."
   ]
  },
  {
   "cell_type": "code",
   "execution_count": 14,
   "metadata": {},
   "outputs": [],
   "source": [
    "# Set the variables for the Alpaca API and secret keys\n",
    "env_file = 'env_vars.env'\n",
    "load_dotenv(env_file)\n",
    "alpaca_api_key = os.getenv(\"ALPACA_API_KEY\")\n",
    "alpaca_secret_key = os.getenv(\"ALPACA_SECRET_KEY\")\n",
    "\n",
    "# Create the Alpaca tradeapi.REST object\n",
    "alpaca = tradeapi.REST(\n",
    "    alpaca_api_key,\n",
    "    alpaca_secret_key,\n",
    "    api_version=\"v2\")"
   ]
  },
  {
   "cell_type": "markdown",
   "metadata": {},
   "source": [
    "#### Step 3: Set the following parameters for the Alpaca API call:\n",
    "\n",
    "- `tickers`: Use the tickers for the member’s stock and bond holdings.\n",
    "\n",
    "- `timeframe`: Use a time frame of one day.\n",
    "\n",
    "- `start_date` and `end_date`: Use the same date for these parameters, and format them with the date of the previous weekday (or `2020-08-07`). This is because you want the one closing price for the most-recent trading day.\n"
   ]
  },
  {
   "cell_type": "code",
   "execution_count": 15,
   "metadata": {},
   "outputs": [],
   "source": [
    "# Set the tickers for both the bond and stock portion of the portfolio\n",
    "tickers = [\"SPY\", \"AGG\"]\n",
    "\n",
    "# Set timeframe to 1D \n",
    "timeframe = \"1D\"\n",
    "# Format current date as ISO format\n",
    "today = pd.Timestamp(\"2021-07-21\", tz=\"America/New_York\").isoformat()\n",
    "\n",
    "# Set both the start and end date at the date of your prior weekday \n",
    "# This will give you the closing price of the previous trading day\n",
    "# Alternatively you can use a start and end date of 2020-08-07\n",
    "start = today\n",
    "end = today\n",
    "\n"
   ]
  },
  {
   "cell_type": "markdown",
   "metadata": {},
   "source": [
    "#### Step 4: Get the current closing prices for `SPY` and `AGG` by using the Alpaca `get_barset` function. Format the response as a Pandas DataFrame by including the `df` property at the end of the `get_barset` function."
   ]
  },
  {
   "cell_type": "code",
   "execution_count": 16,
   "metadata": {},
   "outputs": [
    {
     "data": {
      "text/html": [
       "<div>\n",
       "<style scoped>\n",
       "    .dataframe tbody tr th:only-of-type {\n",
       "        vertical-align: middle;\n",
       "    }\n",
       "\n",
       "    .dataframe tbody tr th {\n",
       "        vertical-align: top;\n",
       "    }\n",
       "\n",
       "    .dataframe thead tr th {\n",
       "        text-align: left;\n",
       "    }\n",
       "\n",
       "    .dataframe thead tr:last-of-type th {\n",
       "        text-align: right;\n",
       "    }\n",
       "</style>\n",
       "<table border=\"1\" class=\"dataframe\">\n",
       "  <thead>\n",
       "    <tr>\n",
       "      <th></th>\n",
       "      <th colspan=\"5\" halign=\"left\">AGG</th>\n",
       "      <th colspan=\"5\" halign=\"left\">SPY</th>\n",
       "    </tr>\n",
       "    <tr>\n",
       "      <th></th>\n",
       "      <th>open</th>\n",
       "      <th>high</th>\n",
       "      <th>low</th>\n",
       "      <th>close</th>\n",
       "      <th>volume</th>\n",
       "      <th>open</th>\n",
       "      <th>high</th>\n",
       "      <th>low</th>\n",
       "      <th>close</th>\n",
       "      <th>volume</th>\n",
       "    </tr>\n",
       "    <tr>\n",
       "      <th>time</th>\n",
       "      <th></th>\n",
       "      <th></th>\n",
       "      <th></th>\n",
       "      <th></th>\n",
       "      <th></th>\n",
       "      <th></th>\n",
       "      <th></th>\n",
       "      <th></th>\n",
       "      <th></th>\n",
       "      <th></th>\n",
       "    </tr>\n",
       "  </thead>\n",
       "  <tbody>\n",
       "    <tr>\n",
       "      <th>2021-07-21 00:00:00-04:00</th>\n",
       "      <td>116.075</td>\n",
       "      <td>116.15</td>\n",
       "      <td>115.92</td>\n",
       "      <td>116.02</td>\n",
       "      <td>7773071</td>\n",
       "      <td>432.34</td>\n",
       "      <td>434.7</td>\n",
       "      <td>431.0111</td>\n",
       "      <td>434.56</td>\n",
       "      <td>54251351</td>\n",
       "    </tr>\n",
       "  </tbody>\n",
       "</table>\n",
       "</div>"
      ],
      "text/plain": [
       "                               AGG                                      SPY  \\\n",
       "                              open    high     low   close   volume    open   \n",
       "time                                                                          \n",
       "2021-07-21 00:00:00-04:00  116.075  116.15  115.92  116.02  7773071  432.34   \n",
       "\n",
       "                                                              \n",
       "                            high       low   close    volume  \n",
       "time                                                          \n",
       "2021-07-21 00:00:00-04:00  434.7  431.0111  434.56  54251351  "
      ]
     },
     "execution_count": 16,
     "metadata": {},
     "output_type": "execute_result"
    }
   ],
   "source": [
    "# Use the Alpaca get_barset function to get current closing prices the portfolio\n",
    "# Be sure to set the `df` property after the function to format the response object as a DataFrame\n",
    "df_portfolio = alpaca.get_barset(\n",
    "    tickers,\n",
    "    timeframe,\n",
    "    start = today,\n",
    "    end = today\n",
    ").df\n",
    "\n",
    "# Display sample data\n",
    "df_portfolio.head()"
   ]
  },
  {
   "cell_type": "markdown",
   "metadata": {},
   "source": [
    "#### Step 5: Navigating the Alpaca response DataFrame, select the `SPY` and `AGG` closing prices, and store them as variables."
   ]
  },
  {
   "cell_type": "code",
   "execution_count": 17,
   "metadata": {},
   "outputs": [
    {
     "name": "stdout",
     "output_type": "stream",
     "text": [
      "[116.02]\n"
     ]
    }
   ],
   "source": [
    "# Access the closing price for AGG from the Alpaca DataFrame\n",
    "# Converting the value to a floating point number\n",
    "#df_portfolio = df_portfolio.reset_index(drop=True, inplace=True)\n",
    "agg_close_price = df_portfolio.iloc[:1, 3].values\n",
    "agg_close_price = agg_close_price.astype(float)\n",
    "# Print the AGG closing price\n",
    "print(agg_close_price)\n"
   ]
  },
  {
   "cell_type": "code",
   "execution_count": 18,
   "metadata": {},
   "outputs": [
    {
     "name": "stdout",
     "output_type": "stream",
     "text": [
      "[434.56]\n"
     ]
    }
   ],
   "source": [
    "# Access the closing price for SPY from the Alpaca DataFrame\n",
    "# Converting the value to a floating point number\n",
    "spy_close_price = df_portfolio.iloc[:1, 8].values\n",
    "spy_close_price = spy_close_price.astype(float)\n",
    "\n",
    "# Print the SPY closing price\n",
    "print(spy_close_price)"
   ]
  },
  {
   "cell_type": "markdown",
   "metadata": {},
   "source": [
    "#### Step 6: Calculate the value, in US dollars, of the current amount of shares in each of the stock and bond portions of the portfolio, and print the results."
   ]
  },
  {
   "cell_type": "code",
   "execution_count": 19,
   "metadata": {},
   "outputs": [
    {
     "name": "stdout",
     "output_type": "stream",
     "text": [
      "[23204.]\n"
     ]
    }
   ],
   "source": [
    "# Calculate the current value of the bond portion of the portfolio\n",
    "agg_value = agg_shares * agg_close_price\n",
    "\n",
    "# Print the current value of the bond portfolio\n",
    "print(agg_value)"
   ]
  },
  {
   "cell_type": "code",
   "execution_count": 20,
   "metadata": {},
   "outputs": [
    {
     "name": "stdout",
     "output_type": "stream",
     "text": [
      "[47801.6]\n"
     ]
    }
   ],
   "source": [
    "# Calculate the current value of the stock portion of the portfolio\n",
    "spy_value = spy_shares * spy_close_price\n",
    "\n",
    "# Print the current value of the stock portfolio\n",
    "print(spy_value)"
   ]
  },
  {
   "cell_type": "code",
   "execution_count": 21,
   "metadata": {},
   "outputs": [
    {
     "name": "stdout",
     "output_type": "stream",
     "text": [
      "[71005.6]\n"
     ]
    }
   ],
   "source": [
    "# Calculate the total value of the stock and bond portion of the portfolio\n",
    "total_stocks_bonds = agg_value + spy_value\n",
    "\n",
    "# Print the current balance of the stock and bond portion of the portfolio\n",
    "print(total_stocks_bonds)"
   ]
  },
  {
   "cell_type": "code",
   "execution_count": 22,
   "metadata": {},
   "outputs": [
    {
     "name": "stdout",
     "output_type": "stream",
     "text": [
      "[120486.116]\n"
     ]
    }
   ],
   "source": [
    "# Calculate the total value of the member's entire savings portfolio\n",
    "# Add the value of the cryptocurrency walled to the value of the total stocks and bonds\n",
    "total_portfolio = total_crypto_wallet + total_stocks_bonds \n",
    "\n",
    "# Print current cryptocurrency wallet balance\n",
    "print(total_portfolio)"
   ]
  },
  {
   "cell_type": "markdown",
   "metadata": {},
   "source": [
    "### Evaluate the Emergency Fund\n",
    "\n",
    "In this section, you’ll use the valuations for the cryptocurrency wallet and for the stock and bond portions of the portfolio to determine if the credit union member has enough savings to build an emergency fund into their financial plan. To do this, complete the following steps:\n",
    "\n",
    "1. Create a Python list named `savings_data` that has two elements. The first element contains the total value of the cryptocurrency wallet. The second element contains the total value of the stock and bond portions of the portfolio.\n",
    "\n",
    "2. Use the `savings_data` list to create a Pandas DataFrame named `savings_df`, and then display this DataFrame. The function to create the DataFrame should take the following three parameters:\n",
    "\n",
    "    - `savings_data`: Use the list that you just created.\n",
    "\n",
    "    - `columns`: Set this parameter equal to a Python list with a single value called `amount`.\n",
    "\n",
    "    - `index`: Set this parameter equal to a Python list with the values of `crypto` and `stock/bond`.\n",
    "\n",
    "3. Use the `savings_df` DataFrame to plot a pie chart that visualizes the composition of the member’s portfolio. The y-axis of the pie chart uses `amount`. Be sure to add a title.\n",
    "\n",
    "4. Using Python, determine if the current portfolio has enough to create an emergency fund as part of the member’s financial plan. Ideally, an emergency fund should equal to three times the member’s monthly income. To do this, implement the following steps:\n",
    "\n",
    "    1. Create a variable named `emergency_fund_value`, and set it equal to three times the value of the member’s `monthly_income` of $12000. (You set this earlier in Part 1).\n",
    "\n",
    "    2. Create a series of three if statements to determine if the member’s total portfolio is large enough to fund the emergency portfolio:\n",
    "\n",
    "        1. If the total portfolio value is greater than the emergency fund value, display a message congratulating the member for having enough money in this fund.\n",
    "\n",
    "        2. Else if the total portfolio value is equal to the emergency fund value, display a message congratulating the member on reaching this important financial goal.\n",
    "\n",
    "        3. Else the total portfolio is less than the emergency fund value, so display a message showing how many dollars away the member is from reaching the goal. (Subtract the total portfolio value from the emergency fund value.)\n"
   ]
  },
  {
   "cell_type": "markdown",
   "metadata": {},
   "source": [
    "#### Step 1: Create a Python list named `savings_data` that has two elements. The first element contains the total value of the cryptocurrency wallet. The second element contains the total value of the stock and bond portions of the portfolio."
   ]
  },
  {
   "cell_type": "code",
   "execution_count": 23,
   "metadata": {},
   "outputs": [
    {
     "data": {
      "text/plain": [
       "[49480.515999999996, 71005.6]"
      ]
     },
     "execution_count": 23,
     "metadata": {},
     "output_type": "execute_result"
    }
   ],
   "source": [
    "# Consolidate financial assets data into a Python list\n",
    "\n",
    "for i in total_stocks_bonds:\n",
    "    total_stocks_bonds = i\n",
    "\n",
    "total_stocks_bonds\n",
    "\n",
    "savings_data = [total_crypto_wallet,  total_stocks_bonds]\n",
    "\n",
    "# Review the Python list savings_data\n",
    "savings_data    "
   ]
  },
  {
   "cell_type": "markdown",
   "metadata": {},
   "source": [
    "#### Step 2: Use the `savings_data` list to create a Pandas DataFrame named `savings_df`, and then display this DataFrame. The function to create the DataFrame should take the following three parameters:\n",
    "\n",
    "- `savings_data`: Use the list that you just created.\n",
    "\n",
    "- `columns`: Set this parameter equal to a Python list with a single value called `amount`.\n",
    "\n",
    "- `index`: Set this parameter equal to a Python list with the values of `crypto` and `stock/bond`.\n"
   ]
  },
  {
   "cell_type": "code",
   "execution_count": 24,
   "metadata": {},
   "outputs": [
    {
     "data": {
      "text/html": [
       "<div>\n",
       "<style scoped>\n",
       "    .dataframe tbody tr th:only-of-type {\n",
       "        vertical-align: middle;\n",
       "    }\n",
       "\n",
       "    .dataframe tbody tr th {\n",
       "        vertical-align: top;\n",
       "    }\n",
       "\n",
       "    .dataframe thead th {\n",
       "        text-align: right;\n",
       "    }\n",
       "</style>\n",
       "<table border=\"1\" class=\"dataframe\">\n",
       "  <thead>\n",
       "    <tr style=\"text-align: right;\">\n",
       "      <th></th>\n",
       "      <th>amount</th>\n",
       "    </tr>\n",
       "  </thead>\n",
       "  <tbody>\n",
       "    <tr>\n",
       "      <th>total_crypto_wallet</th>\n",
       "      <td>49480.516</td>\n",
       "    </tr>\n",
       "    <tr>\n",
       "      <th>total_stocks_bonds</th>\n",
       "      <td>71005.600</td>\n",
       "    </tr>\n",
       "  </tbody>\n",
       "</table>\n",
       "</div>"
      ],
      "text/plain": [
       "                        amount\n",
       "total_crypto_wallet  49480.516\n",
       "total_stocks_bonds   71005.600"
      ]
     },
     "execution_count": 24,
     "metadata": {},
     "output_type": "execute_result"
    }
   ],
   "source": [
    "# Create a Pandas DataFrame called savings_df \n",
    "savings_df = pd.DataFrame(data = savings_data, columns = [\"amount\"], index = [\"total_crypto_wallet\", \"total_stocks_bonds\"])\n",
    "# Display the savings_df DataFrame\n",
    "savings_df"
   ]
  },
  {
   "cell_type": "markdown",
   "metadata": {},
   "source": [
    "#### Step 3: Use the `savings_df` DataFrame to plot a pie chart that visualizes the composition of the member’s portfolio. The y-axis of the pie chart uses `amount`. Be sure to add a title."
   ]
  },
  {
   "cell_type": "code",
   "execution_count": 25,
   "metadata": {},
   "outputs": [
    {
     "data": {
      "text/plain": [
       "<AxesSubplot:title={'center':'Composition of Portfolio'}, ylabel='amount'>"
      ]
     },
     "execution_count": 25,
     "metadata": {},
     "output_type": "execute_result"
    },
    {
     "data": {
      "image/png": "[encoded data removed]",
      "text/plain": [
       "<Figure size 432x288 with 1 Axes>"
      ]
     },
     "metadata": {},
     "output_type": "display_data"
    }
   ],
   "source": [
    "# Plot the total value of the member's portfolio (crypto and stock/bond) in a pie chart\n",
    "savings_df.plot.pie(x= [\"total_crypto_wallet\", \"total_stocks_bonds\"], y=\"amount\", cmap=\"jet\", title=\"Composition of Portfolio\")"
   ]
  },
  {
   "cell_type": "markdown",
   "metadata": {},
   "source": [
    "#### Step 4: Using Python, determine if the current portfolio has enough to create an emergency fund as part of the member’s financial plan. Ideally, an emergency fund should equal to three times the member’s monthly income. To do this, implement the following steps:\n",
    "\n",
    "Step 1. Create a variable named `emergency_fund_value`, and set it equal to three times the value of the member’s `monthly_income` of 12000. (You set this earlier in Part 1).\n",
    "\n",
    "Step 2. Create a series of three if statements to determine if the member’s total portfolio is large enough to fund the emergency portfolio:\n",
    "\n",
    "* If the total portfolio value is greater than the emergency fund value, display a message congratulating the member for having enough money in this fund.\n",
    "\n",
    "* Else if the total portfolio value is equal to the emergency fund value, display a message congratulating the member on reaching this important financial goal.\n",
    "\n",
    "* Else the total portfolio is less than the emergency fund value, so display a message showing how many dollars away the member is from reaching the goal. (Subtract the total portfolio value from the emergency fund value.)\n"
   ]
  },
  {
   "cell_type": "markdown",
   "metadata": {},
   "source": [
    "##### Step 4-1: Create a variable named `emergency_fund_value`, and set it equal to three times the value of the member’s `monthly_income` of 12000. (You set this earlier in Part 1)."
   ]
  },
  {
   "cell_type": "code",
   "execution_count": 26,
   "metadata": {},
   "outputs": [],
   "source": [
    "# Create a variable named emergency_fund_value\n",
    "emergency_fund_value = monthly_income * 3\n"
   ]
  },
  {
   "cell_type": "markdown",
   "metadata": {},
   "source": [
    "##### Step 4-2: Create a series of three if statements to determine if the member’s total portfolio is large enough to fund the emergency portfolio:\n",
    "\n",
    "* If the total portfolio value is greater than the emergency fund value, display a message congratulating the member for having enough money in this fund.\n",
    "\n",
    "* Else if the total portfolio value is equal to the emergency fund value, display a message congratulating the member on reaching this important financial goal.\n",
    "\n",
    "* Else the total portfolio is less than the emergency fund value, so display a message showing how many dollars away the member is from reaching the goal. (Subtract the total portfolio value from the emergency fund value.)"
   ]
  },
  {
   "cell_type": "code",
   "execution_count": 27,
   "metadata": {},
   "outputs": [
    {
     "name": "stdout",
     "output_type": "stream",
     "text": [
      "Congratulations on having enough money in this fund\n"
     ]
    }
   ],
   "source": [
    "# Evaluate the possibility of creating an emergency fund with 3 conditions:\n",
    "if total_portfolio > emergency_fund_value:\n",
    "    print(\"Congratulations on having enough money in this fund\")\n",
    "elif total_portfolio == emergency_fund_value:\n",
    "    print(\"Congratulations on reaching this important financial goal\")\n",
    "else:\n",
    "    val = emergency_fund_value - total_portfolio\n",
    "    print(\"you are $\", val, \"away from reaching the goal\")\n"
   ]
  },
  {
   "cell_type": "markdown",
   "metadata": {},
   "source": [
    "## Part 2: Create a Financial Planner for Retirement"
   ]
  },
  {
   "cell_type": "markdown",
   "metadata": {},
   "source": [
    "### Create the Monte Carlo Simulation\n",
    "\n",
    "In this section, you’ll use the MCForecastTools library to create a Monte Carlo simulation for the member’s savings portfolio. To do this, complete the following steps:\n",
    "\n",
    "1. Make an API call via the Alpaca SDK to get 10 years of historical closing prices for a traditional 60/40 portfolio split: 60% stocks (SPY) and 40% bonds (AGG).\n",
    "\n",
    "2. Run a Monte Carlo simulation of 500 samples and 30 years for the 60/40 portfolio, and then plot the results.The following image shows the overlay line plot resulting from a simulation with these characteristics. However, because a random number generator is used to run each live Monte Carlo simulation, your image will differ slightly from this exact image:\n",
    "\n",
    "![A screenshot depicts the resulting plot.](Images/5-4-monte-carlo-line-plot.png)\n",
    "\n",
    "3. Plot the probability distribution of the Monte Carlo simulation. Plot the probability distribution of the Monte Carlo simulation. The following image shows the histogram plot resulting from a simulation with these characteristics. However, because a random number generator is used to run each live Monte Carlo simulation, your image will differ slightly from this exact image:\n",
    "\n",
    "![A screenshot depicts the histogram plot.](Images/5-4-monte-carlo-histogram.png)\n",
    "\n",
    "4. Generate the summary statistics for the Monte Carlo simulation.\n",
    "\n"
   ]
  },
  {
   "cell_type": "markdown",
   "metadata": {},
   "source": [
    "#### Step 1: Make an API call via the Alpaca SDK to get 10 years of historical closing prices for a traditional 60/40 portfolio split: 60% stocks (SPY) and 40% bonds (AGG)."
   ]
  },
  {
   "cell_type": "code",
   "execution_count": 28,
   "metadata": {},
   "outputs": [],
   "source": [
    "# Set start and end dates of 10 years back from your current date\n",
    "# Alternatively, you can use an end date of 2020-08-07 and work 10 years back from that date \n",
    "#start_date = \"2000-08-07\"\n",
    "#end_date = \"2020-08-07\"\n",
    "#timeframe = \n",
    "start_date = pd.Timestamp( \"2010-08-07\", tz=\"America/New_York\").isoformat()\n",
    "end_date = pd.Timestamp(\"2020-08-07\", tz=\"America/New_York\").isoformat()"
   ]
  },
  {
   "cell_type": "code",
   "execution_count": 39,
   "metadata": {},
   "outputs": [
    {
     "data": {
      "text/html": [
       "<div>\n",
       "<style scoped>\n",
       "    .dataframe tbody tr th:only-of-type {\n",
       "        vertical-align: middle;\n",
       "    }\n",
       "\n",
       "    .dataframe tbody tr th {\n",
       "        vertical-align: top;\n",
       "    }\n",
       "\n",
       "    .dataframe thead tr th {\n",
       "        text-align: left;\n",
       "    }\n",
       "\n",
       "    .dataframe thead tr:last-of-type th {\n",
       "        text-align: right;\n",
       "    }\n",
       "</style>\n",
       "<table border=\"1\" class=\"dataframe\">\n",
       "  <thead>\n",
       "    <tr>\n",
       "      <th></th>\n",
       "      <th colspan=\"5\" halign=\"left\">AGG</th>\n",
       "      <th colspan=\"5\" halign=\"left\">SPY</th>\n",
       "    </tr>\n",
       "    <tr>\n",
       "      <th></th>\n",
       "      <th>open</th>\n",
       "      <th>high</th>\n",
       "      <th>low</th>\n",
       "      <th>close</th>\n",
       "      <th>volume</th>\n",
       "      <th>open</th>\n",
       "      <th>high</th>\n",
       "      <th>low</th>\n",
       "      <th>close</th>\n",
       "      <th>volume</th>\n",
       "    </tr>\n",
       "    <tr>\n",
       "      <th>time</th>\n",
       "      <th></th>\n",
       "      <th></th>\n",
       "      <th></th>\n",
       "      <th></th>\n",
       "      <th></th>\n",
       "      <th></th>\n",
       "      <th></th>\n",
       "      <th></th>\n",
       "      <th></th>\n",
       "      <th></th>\n",
       "    </tr>\n",
       "  </thead>\n",
       "  <tbody>\n",
       "    <tr>\n",
       "      <th>2016-08-17 00:00:00-04:00</th>\n",
       "      <td>112.45</td>\n",
       "      <td>112.6600</td>\n",
       "      <td>112.3600</td>\n",
       "      <td>112.580</td>\n",
       "      <td>3136737.0</td>\n",
       "      <td>NaN</td>\n",
       "      <td>NaN</td>\n",
       "      <td>NaN</td>\n",
       "      <td>NaN</td>\n",
       "      <td>NaN</td>\n",
       "    </tr>\n",
       "    <tr>\n",
       "      <th>2016-08-18 00:00:00-04:00</th>\n",
       "      <td>112.64</td>\n",
       "      <td>112.7799</td>\n",
       "      <td>112.5350</td>\n",
       "      <td>112.705</td>\n",
       "      <td>1814107.0</td>\n",
       "      <td>218.33</td>\n",
       "      <td>218.90</td>\n",
       "      <td>218.21</td>\n",
       "      <td>218.87</td>\n",
       "      <td>42850145.0</td>\n",
       "    </tr>\n",
       "    <tr>\n",
       "      <th>2016-08-19 00:00:00-04:00</th>\n",
       "      <td>112.53</td>\n",
       "      <td>112.6200</td>\n",
       "      <td>112.3900</td>\n",
       "      <td>112.490</td>\n",
       "      <td>2961016.0</td>\n",
       "      <td>218.31</td>\n",
       "      <td>218.75</td>\n",
       "      <td>217.74</td>\n",
       "      <td>218.57</td>\n",
       "      <td>52238224.0</td>\n",
       "    </tr>\n",
       "    <tr>\n",
       "      <th>2016-08-22 00:00:00-04:00</th>\n",
       "      <td>112.66</td>\n",
       "      <td>112.7380</td>\n",
       "      <td>112.5600</td>\n",
       "      <td>112.650</td>\n",
       "      <td>1647564.0</td>\n",
       "      <td>218.27</td>\n",
       "      <td>218.80</td>\n",
       "      <td>217.83</td>\n",
       "      <td>218.50</td>\n",
       "      <td>48628907.0</td>\n",
       "    </tr>\n",
       "    <tr>\n",
       "      <th>2016-08-23 00:00:00-04:00</th>\n",
       "      <td>112.78</td>\n",
       "      <td>112.8250</td>\n",
       "      <td>112.6301</td>\n",
       "      <td>112.690</td>\n",
       "      <td>2197732.0</td>\n",
       "      <td>219.25</td>\n",
       "      <td>219.60</td>\n",
       "      <td>218.90</td>\n",
       "      <td>218.94</td>\n",
       "      <td>41981207.0</td>\n",
       "    </tr>\n",
       "  </tbody>\n",
       "</table>\n",
       "</div>"
      ],
      "text/plain": [
       "                              AGG                                          \\\n",
       "                             open      high       low    close     volume   \n",
       "time                                                                        \n",
       "2016-08-17 00:00:00-04:00  112.45  112.6600  112.3600  112.580  3136737.0   \n",
       "2016-08-18 00:00:00-04:00  112.64  112.7799  112.5350  112.705  1814107.0   \n",
       "2016-08-19 00:00:00-04:00  112.53  112.6200  112.3900  112.490  2961016.0   \n",
       "2016-08-22 00:00:00-04:00  112.66  112.7380  112.5600  112.650  1647564.0   \n",
       "2016-08-23 00:00:00-04:00  112.78  112.8250  112.6301  112.690  2197732.0   \n",
       "\n",
       "                              SPY                                      \n",
       "                             open    high     low   close      volume  \n",
       "time                                                                   \n",
       "2016-08-17 00:00:00-04:00     NaN     NaN     NaN     NaN         NaN  \n",
       "2016-08-18 00:00:00-04:00  218.33  218.90  218.21  218.87  42850145.0  \n",
       "2016-08-19 00:00:00-04:00  218.31  218.75  217.74  218.57  52238224.0  \n",
       "2016-08-22 00:00:00-04:00  218.27  218.80  217.83  218.50  48628907.0  \n",
       "2016-08-23 00:00:00-04:00  219.25  219.60  218.90  218.94  41981207.0  "
      ]
     },
     "metadata": {},
     "output_type": "display_data"
    },
    {
     "data": {
      "text/html": [
       "<div>\n",
       "<style scoped>\n",
       "    .dataframe tbody tr th:only-of-type {\n",
       "        vertical-align: middle;\n",
       "    }\n",
       "\n",
       "    .dataframe tbody tr th {\n",
       "        vertical-align: top;\n",
       "    }\n",
       "\n",
       "    .dataframe thead tr th {\n",
       "        text-align: left;\n",
       "    }\n",
       "\n",
       "    .dataframe thead tr:last-of-type th {\n",
       "        text-align: right;\n",
       "    }\n",
       "</style>\n",
       "<table border=\"1\" class=\"dataframe\">\n",
       "  <thead>\n",
       "    <tr>\n",
       "      <th></th>\n",
       "      <th colspan=\"5\" halign=\"left\">AGG</th>\n",
       "      <th colspan=\"5\" halign=\"left\">SPY</th>\n",
       "    </tr>\n",
       "    <tr>\n",
       "      <th></th>\n",
       "      <th>open</th>\n",
       "      <th>high</th>\n",
       "      <th>low</th>\n",
       "      <th>close</th>\n",
       "      <th>volume</th>\n",
       "      <th>open</th>\n",
       "      <th>high</th>\n",
       "      <th>low</th>\n",
       "      <th>close</th>\n",
       "      <th>volume</th>\n",
       "    </tr>\n",
       "    <tr>\n",
       "      <th>time</th>\n",
       "      <th></th>\n",
       "      <th></th>\n",
       "      <th></th>\n",
       "      <th></th>\n",
       "      <th></th>\n",
       "      <th></th>\n",
       "      <th></th>\n",
       "      <th></th>\n",
       "      <th></th>\n",
       "      <th></th>\n",
       "    </tr>\n",
       "  </thead>\n",
       "  <tbody>\n",
       "    <tr>\n",
       "      <th>2020-08-03 00:00:00-04:00</th>\n",
       "      <td>119.37</td>\n",
       "      <td>119.40</td>\n",
       "      <td>119.1903</td>\n",
       "      <td>119.400</td>\n",
       "      <td>17837420.0</td>\n",
       "      <td>328.3200</td>\n",
       "      <td>329.62</td>\n",
       "      <td>327.73</td>\n",
       "      <td>328.76</td>\n",
       "      <td>71741125.0</td>\n",
       "    </tr>\n",
       "    <tr>\n",
       "      <th>2020-08-04 00:00:00-04:00</th>\n",
       "      <td>119.42</td>\n",
       "      <td>119.63</td>\n",
       "      <td>119.4200</td>\n",
       "      <td>119.630</td>\n",
       "      <td>21512268.0</td>\n",
       "      <td>327.8600</td>\n",
       "      <td>330.06</td>\n",
       "      <td>327.86</td>\n",
       "      <td>330.03</td>\n",
       "      <td>73684427.0</td>\n",
       "    </tr>\n",
       "    <tr>\n",
       "      <th>2020-08-05 00:00:00-04:00</th>\n",
       "      <td>119.39</td>\n",
       "      <td>119.49</td>\n",
       "      <td>119.3100</td>\n",
       "      <td>119.400</td>\n",
       "      <td>34175883.0</td>\n",
       "      <td>331.4700</td>\n",
       "      <td>332.39</td>\n",
       "      <td>331.18</td>\n",
       "      <td>332.06</td>\n",
       "      <td>72846458.0</td>\n",
       "    </tr>\n",
       "    <tr>\n",
       "      <th>2020-08-06 00:00:00-04:00</th>\n",
       "      <td>119.62</td>\n",
       "      <td>119.73</td>\n",
       "      <td>119.5300</td>\n",
       "      <td>119.580</td>\n",
       "      <td>9009216.0</td>\n",
       "      <td>331.4799</td>\n",
       "      <td>334.46</td>\n",
       "      <td>331.13</td>\n",
       "      <td>334.31</td>\n",
       "      <td>76900649.0</td>\n",
       "    </tr>\n",
       "    <tr>\n",
       "      <th>2020-08-07 00:00:00-04:00</th>\n",
       "      <td>119.66</td>\n",
       "      <td>119.73</td>\n",
       "      <td>119.3950</td>\n",
       "      <td>119.445</td>\n",
       "      <td>8830420.0</td>\n",
       "      <td>333.2800</td>\n",
       "      <td>334.88</td>\n",
       "      <td>332.30</td>\n",
       "      <td>334.55</td>\n",
       "      <td>98710236.0</td>\n",
       "    </tr>\n",
       "  </tbody>\n",
       "</table>\n",
       "</div>"
      ],
      "text/plain": [
       "                              AGG                                         \\\n",
       "                             open    high       low    close      volume   \n",
       "time                                                                       \n",
       "2020-08-03 00:00:00-04:00  119.37  119.40  119.1903  119.400  17837420.0   \n",
       "2020-08-04 00:00:00-04:00  119.42  119.63  119.4200  119.630  21512268.0   \n",
       "2020-08-05 00:00:00-04:00  119.39  119.49  119.3100  119.400  34175883.0   \n",
       "2020-08-06 00:00:00-04:00  119.62  119.73  119.5300  119.580   9009216.0   \n",
       "2020-08-07 00:00:00-04:00  119.66  119.73  119.3950  119.445   8830420.0   \n",
       "\n",
       "                                SPY                                      \n",
       "                               open    high     low   close      volume  \n",
       "time                                                                     \n",
       "2020-08-03 00:00:00-04:00  328.3200  329.62  327.73  328.76  71741125.0  \n",
       "2020-08-04 00:00:00-04:00  327.8600  330.06  327.86  330.03  73684427.0  \n",
       "2020-08-05 00:00:00-04:00  331.4700  332.39  331.18  332.06  72846458.0  \n",
       "2020-08-06 00:00:00-04:00  331.4799  334.46  331.13  334.31  76900649.0  \n",
       "2020-08-07 00:00:00-04:00  333.2800  334.88  332.30  334.55  98710236.0  "
      ]
     },
     "metadata": {},
     "output_type": "display_data"
    }
   ],
   "source": [
    "# Use the Alpaca get_barset function to make the API call to get the 10 years worth of pricing data\n",
    "# The tickers and timeframe parameters should have been set in Part 1 of this activity \n",
    "# The start and end dates should be updated with the information set above\n",
    "# Remember to add the df property to the end of the call so the response is returned as a DataFrame\n",
    "tickers = [\"SPY\", \"AGG\"]\n",
    "df_longer = alpaca.get_barset(\n",
    "    tickers,\n",
    "    timeframe,\n",
    "    start=start_date,\n",
    "    end=end_date,\n",
    "    limit=1000\n",
    ").df\n",
    "\n",
    "# Display sample data\n",
    "df_longer\n",
    "\n",
    "# Display both the first and last five rows of the DataFrame\n",
    "display(df_longer.head())\n",
    "display(df_longer.tail())\n"
   ]
  },
  {
   "cell_type": "markdown",
   "metadata": {},
   "source": [
    "#### Step 2: Run a Monte Carlo simulation of 500 samples and 30 years for the 60/40 portfolio, and then plot the results."
   ]
  },
  {
   "cell_type": "code",
   "execution_count": 42,
   "metadata": {},
   "outputs": [
    {
     "data": {
      "text/html": [
       "<div>\n",
       "<style scoped>\n",
       "    .dataframe tbody tr th:only-of-type {\n",
       "        vertical-align: middle;\n",
       "    }\n",
       "\n",
       "    .dataframe tbody tr th {\n",
       "        vertical-align: top;\n",
       "    }\n",
       "\n",
       "    .dataframe thead tr th {\n",
       "        text-align: left;\n",
       "    }\n",
       "\n",
       "    .dataframe thead tr:last-of-type th {\n",
       "        text-align: right;\n",
       "    }\n",
       "</style>\n",
       "<table border=\"1\" class=\"dataframe\">\n",
       "  <thead>\n",
       "    <tr>\n",
       "      <th></th>\n",
       "      <th colspan=\"6\" halign=\"left\">AGG</th>\n",
       "      <th colspan=\"6\" halign=\"left\">SPY</th>\n",
       "    </tr>\n",
       "    <tr>\n",
       "      <th></th>\n",
       "      <th>open</th>\n",
       "      <th>high</th>\n",
       "      <th>low</th>\n",
       "      <th>close</th>\n",
       "      <th>volume</th>\n",
       "      <th>daily_return</th>\n",
       "      <th>open</th>\n",
       "      <th>high</th>\n",
       "      <th>low</th>\n",
       "      <th>close</th>\n",
       "      <th>volume</th>\n",
       "      <th>daily_return</th>\n",
       "    </tr>\n",
       "    <tr>\n",
       "      <th>time</th>\n",
       "      <th></th>\n",
       "      <th></th>\n",
       "      <th></th>\n",
       "      <th></th>\n",
       "      <th></th>\n",
       "      <th></th>\n",
       "      <th></th>\n",
       "      <th></th>\n",
       "      <th></th>\n",
       "      <th></th>\n",
       "      <th></th>\n",
       "      <th></th>\n",
       "    </tr>\n",
       "  </thead>\n",
       "  <tbody>\n",
       "    <tr>\n",
       "      <th>2016-08-17 00:00:00-04:00</th>\n",
       "      <td>112.45</td>\n",
       "      <td>112.6600</td>\n",
       "      <td>112.3600</td>\n",
       "      <td>112.580</td>\n",
       "      <td>3136737.0</td>\n",
       "      <td>NaN</td>\n",
       "      <td>NaN</td>\n",
       "      <td>NaN</td>\n",
       "      <td>NaN</td>\n",
       "      <td>NaN</td>\n",
       "      <td>NaN</td>\n",
       "      <td>NaN</td>\n",
       "    </tr>\n",
       "    <tr>\n",
       "      <th>2016-08-18 00:00:00-04:00</th>\n",
       "      <td>112.64</td>\n",
       "      <td>112.7799</td>\n",
       "      <td>112.5350</td>\n",
       "      <td>112.705</td>\n",
       "      <td>1814107.0</td>\n",
       "      <td>0.001110</td>\n",
       "      <td>218.33</td>\n",
       "      <td>218.90</td>\n",
       "      <td>218.21</td>\n",
       "      <td>218.87</td>\n",
       "      <td>42850145.0</td>\n",
       "      <td>NaN</td>\n",
       "    </tr>\n",
       "    <tr>\n",
       "      <th>2016-08-19 00:00:00-04:00</th>\n",
       "      <td>112.53</td>\n",
       "      <td>112.6200</td>\n",
       "      <td>112.3900</td>\n",
       "      <td>112.490</td>\n",
       "      <td>2961016.0</td>\n",
       "      <td>-0.001908</td>\n",
       "      <td>218.31</td>\n",
       "      <td>218.75</td>\n",
       "      <td>217.74</td>\n",
       "      <td>218.57</td>\n",
       "      <td>52238224.0</td>\n",
       "      <td>-0.001371</td>\n",
       "    </tr>\n",
       "    <tr>\n",
       "      <th>2016-08-22 00:00:00-04:00</th>\n",
       "      <td>112.66</td>\n",
       "      <td>112.7380</td>\n",
       "      <td>112.5600</td>\n",
       "      <td>112.650</td>\n",
       "      <td>1647564.0</td>\n",
       "      <td>0.001422</td>\n",
       "      <td>218.27</td>\n",
       "      <td>218.80</td>\n",
       "      <td>217.83</td>\n",
       "      <td>218.50</td>\n",
       "      <td>48628907.0</td>\n",
       "      <td>-0.000320</td>\n",
       "    </tr>\n",
       "    <tr>\n",
       "      <th>2016-08-23 00:00:00-04:00</th>\n",
       "      <td>112.78</td>\n",
       "      <td>112.8250</td>\n",
       "      <td>112.6301</td>\n",
       "      <td>112.690</td>\n",
       "      <td>2197732.0</td>\n",
       "      <td>0.000355</td>\n",
       "      <td>219.25</td>\n",
       "      <td>219.60</td>\n",
       "      <td>218.90</td>\n",
       "      <td>218.94</td>\n",
       "      <td>41981207.0</td>\n",
       "      <td>0.002014</td>\n",
       "    </tr>\n",
       "  </tbody>\n",
       "</table>\n",
       "</div>"
      ],
      "text/plain": [
       "                              AGG                                          \\\n",
       "                             open      high       low    close     volume   \n",
       "time                                                                        \n",
       "2016-08-17 00:00:00-04:00  112.45  112.6600  112.3600  112.580  3136737.0   \n",
       "2016-08-18 00:00:00-04:00  112.64  112.7799  112.5350  112.705  1814107.0   \n",
       "2016-08-19 00:00:00-04:00  112.53  112.6200  112.3900  112.490  2961016.0   \n",
       "2016-08-22 00:00:00-04:00  112.66  112.7380  112.5600  112.650  1647564.0   \n",
       "2016-08-23 00:00:00-04:00  112.78  112.8250  112.6301  112.690  2197732.0   \n",
       "\n",
       "                                           SPY                          \\\n",
       "                          daily_return    open    high     low   close   \n",
       "time                                                                     \n",
       "2016-08-17 00:00:00-04:00          NaN     NaN     NaN     NaN     NaN   \n",
       "2016-08-18 00:00:00-04:00     0.001110  218.33  218.90  218.21  218.87   \n",
       "2016-08-19 00:00:00-04:00    -0.001908  218.31  218.75  217.74  218.57   \n",
       "2016-08-22 00:00:00-04:00     0.001422  218.27  218.80  217.83  218.50   \n",
       "2016-08-23 00:00:00-04:00     0.000355  219.25  219.60  218.90  218.94   \n",
       "\n",
       "                                                    \n",
       "                               volume daily_return  \n",
       "time                                                \n",
       "2016-08-17 00:00:00-04:00         NaN          NaN  \n",
       "2016-08-18 00:00:00-04:00  42850145.0          NaN  \n",
       "2016-08-19 00:00:00-04:00  52238224.0    -0.001371  \n",
       "2016-08-22 00:00:00-04:00  48628907.0    -0.000320  \n",
       "2016-08-23 00:00:00-04:00  41981207.0     0.002014  "
      ]
     },
     "execution_count": 42,
     "metadata": {},
     "output_type": "execute_result"
    }
   ],
   "source": [
    "# Configure the Monte Carlo simulation to forecast 30 years cumulative returns\n",
    "# The weights should be split 40% to AGG and 60% to SPY.\n",
    "# Run 500 samples.\n",
    "import numpy.random as rnd\n",
    "from MCForecastTools import MCSimulation\n",
    "\n",
    "thirty_year_simulation = MCSimulation(\n",
    "    portfolio_data=df_longer,\n",
    "    weights=[0.60, 0.40],\n",
    "    num_simulation=500,\n",
    "    num_trading_days=252*30,\n",
    ")\n",
    "# Review the simulation input data\n",
    "thirty_year_simulation.portfolio_data.head()"
   ]
  },
  {
   "cell_type": "code",
   "execution_count": 43,
   "metadata": {},
   "outputs": [
    {
     "name": "stdout",
     "output_type": "stream",
     "text": [
      "Running Monte Carlo simulation number 0.\n",
      "Running Monte Carlo simulation number 10.\n",
      "Running Monte Carlo simulation number 20.\n",
      "Running Monte Carlo simulation number 30.\n",
      "Running Monte Carlo simulation number 40.\n",
      "Running Monte Carlo simulation number 50.\n",
      "Running Monte Carlo simulation number 60.\n",
      "Running Monte Carlo simulation number 70.\n",
      "Running Monte Carlo simulation number 80.\n",
      "Running Monte Carlo simulation number 90.\n",
      "Running Monte Carlo simulation number 100.\n",
      "Running Monte Carlo simulation number 110.\n",
      "Running Monte Carlo simulation number 120.\n",
      "Running Monte Carlo simulation number 130.\n",
      "Running Monte Carlo simulation number 140.\n",
      "Running Monte Carlo simulation number 150.\n",
      "Running Monte Carlo simulation number 160.\n",
      "Running Monte Carlo simulation number 170.\n",
      "Running Monte Carlo simulation number 180.\n",
      "Running Monte Carlo simulation number 190.\n",
      "Running Monte Carlo simulation number 200.\n",
      "Running Monte Carlo simulation number 210.\n",
      "Running Monte Carlo simulation number 220.\n",
      "Running Monte Carlo simulation number 230.\n",
      "Running Monte Carlo simulation number 240.\n",
      "Running Monte Carlo simulation number 250.\n",
      "Running Monte Carlo simulation number 260.\n",
      "Running Monte Carlo simulation number 270.\n",
      "Running Monte Carlo simulation number 280.\n",
      "Running Monte Carlo simulation number 290.\n",
      "Running Monte Carlo simulation number 300.\n",
      "Running Monte Carlo simulation number 310.\n",
      "Running Monte Carlo simulation number 320.\n",
      "Running Monte Carlo simulation number 330.\n",
      "Running Monte Carlo simulation number 340.\n",
      "Running Monte Carlo simulation number 350.\n",
      "Running Monte Carlo simulation number 360.\n",
      "Running Monte Carlo simulation number 370.\n",
      "Running Monte Carlo simulation number 380.\n",
      "Running Monte Carlo simulation number 390.\n",
      "Running Monte Carlo simulation number 400.\n",
      "Running Monte Carlo simulation number 410.\n",
      "Running Monte Carlo simulation number 420.\n",
      "Running Monte Carlo simulation number 430.\n",
      "Running Monte Carlo simulation number 440.\n",
      "Running Monte Carlo simulation number 450.\n",
      "Running Monte Carlo simulation number 460.\n",
      "Running Monte Carlo simulation number 470.\n",
      "Running Monte Carlo simulation number 480.\n",
      "Running Monte Carlo simulation number 490.\n"
     ]
    },
    {
     "data": {
      "text/html": [
       "<div>\n",
       "<style scoped>\n",
       "    .dataframe tbody tr th:only-of-type {\n",
       "        vertical-align: middle;\n",
       "    }\n",
       "\n",
       "    .dataframe tbody tr th {\n",
       "        vertical-align: top;\n",
       "    }\n",
       "\n",
       "    .dataframe thead th {\n",
       "        text-align: right;\n",
       "    }\n",
       "</style>\n",
       "<table border=\"1\" class=\"dataframe\">\n",
       "  <thead>\n",
       "    <tr style=\"text-align: right;\">\n",
       "      <th></th>\n",
       "      <th>0</th>\n",
       "      <th>1</th>\n",
       "      <th>2</th>\n",
       "      <th>3</th>\n",
       "      <th>4</th>\n",
       "      <th>5</th>\n",
       "      <th>6</th>\n",
       "      <th>7</th>\n",
       "      <th>8</th>\n",
       "      <th>9</th>\n",
       "      <th>...</th>\n",
       "      <th>490</th>\n",
       "      <th>491</th>\n",
       "      <th>492</th>\n",
       "      <th>493</th>\n",
       "      <th>494</th>\n",
       "      <th>495</th>\n",
       "      <th>496</th>\n",
       "      <th>497</th>\n",
       "      <th>498</th>\n",
       "      <th>499</th>\n",
       "    </tr>\n",
       "  </thead>\n",
       "  <tbody>\n",
       "    <tr>\n",
       "      <th>0</th>\n",
       "      <td>1.000000</td>\n",
       "      <td>1.000000</td>\n",
       "      <td>1.000000</td>\n",
       "      <td>1.000000</td>\n",
       "      <td>1.000000</td>\n",
       "      <td>1.000000</td>\n",
       "      <td>1.000000</td>\n",
       "      <td>1.000000</td>\n",
       "      <td>1.000000</td>\n",
       "      <td>1.000000</td>\n",
       "      <td>...</td>\n",
       "      <td>1.000000</td>\n",
       "      <td>1.000000</td>\n",
       "      <td>1.000000</td>\n",
       "      <td>1.000000</td>\n",
       "      <td>1.000000</td>\n",
       "      <td>1.000000</td>\n",
       "      <td>1.000000</td>\n",
       "      <td>1.000000</td>\n",
       "      <td>1.000000</td>\n",
       "      <td>1.000000</td>\n",
       "    </tr>\n",
       "    <tr>\n",
       "      <th>1</th>\n",
       "      <td>1.005965</td>\n",
       "      <td>1.003465</td>\n",
       "      <td>1.005652</td>\n",
       "      <td>1.000725</td>\n",
       "      <td>0.988517</td>\n",
       "      <td>1.000207</td>\n",
       "      <td>1.005923</td>\n",
       "      <td>0.996122</td>\n",
       "      <td>1.007993</td>\n",
       "      <td>0.994909</td>\n",
       "      <td>...</td>\n",
       "      <td>1.001718</td>\n",
       "      <td>0.996294</td>\n",
       "      <td>1.006644</td>\n",
       "      <td>0.997983</td>\n",
       "      <td>0.998601</td>\n",
       "      <td>0.999680</td>\n",
       "      <td>1.002781</td>\n",
       "      <td>1.003246</td>\n",
       "      <td>0.996152</td>\n",
       "      <td>0.999369</td>\n",
       "    </tr>\n",
       "    <tr>\n",
       "      <th>2</th>\n",
       "      <td>1.003506</td>\n",
       "      <td>1.002299</td>\n",
       "      <td>1.008008</td>\n",
       "      <td>0.999973</td>\n",
       "      <td>0.997194</td>\n",
       "      <td>1.004915</td>\n",
       "      <td>1.009342</td>\n",
       "      <td>0.999078</td>\n",
       "      <td>1.011153</td>\n",
       "      <td>0.989631</td>\n",
       "      <td>...</td>\n",
       "      <td>1.000314</td>\n",
       "      <td>0.989105</td>\n",
       "      <td>1.017084</td>\n",
       "      <td>0.990368</td>\n",
       "      <td>1.002019</td>\n",
       "      <td>1.000558</td>\n",
       "      <td>1.016246</td>\n",
       "      <td>1.002387</td>\n",
       "      <td>0.997167</td>\n",
       "      <td>1.000145</td>\n",
       "    </tr>\n",
       "    <tr>\n",
       "      <th>3</th>\n",
       "      <td>1.001611</td>\n",
       "      <td>1.001315</td>\n",
       "      <td>1.012094</td>\n",
       "      <td>0.989581</td>\n",
       "      <td>0.996521</td>\n",
       "      <td>1.003315</td>\n",
       "      <td>1.004902</td>\n",
       "      <td>1.005763</td>\n",
       "      <td>1.015606</td>\n",
       "      <td>0.994031</td>\n",
       "      <td>...</td>\n",
       "      <td>0.997358</td>\n",
       "      <td>1.003481</td>\n",
       "      <td>1.017095</td>\n",
       "      <td>0.984592</td>\n",
       "      <td>1.000186</td>\n",
       "      <td>1.005292</td>\n",
       "      <td>1.020600</td>\n",
       "      <td>1.013888</td>\n",
       "      <td>1.005673</td>\n",
       "      <td>1.002221</td>\n",
       "    </tr>\n",
       "    <tr>\n",
       "      <th>4</th>\n",
       "      <td>1.002696</td>\n",
       "      <td>1.006545</td>\n",
       "      <td>1.016261</td>\n",
       "      <td>0.996615</td>\n",
       "      <td>1.007138</td>\n",
       "      <td>1.011160</td>\n",
       "      <td>1.015270</td>\n",
       "      <td>1.001609</td>\n",
       "      <td>1.025534</td>\n",
       "      <td>0.993806</td>\n",
       "      <td>...</td>\n",
       "      <td>1.002392</td>\n",
       "      <td>1.000053</td>\n",
       "      <td>1.021404</td>\n",
       "      <td>0.982564</td>\n",
       "      <td>0.997561</td>\n",
       "      <td>1.005474</td>\n",
       "      <td>1.020080</td>\n",
       "      <td>1.013476</td>\n",
       "      <td>1.002056</td>\n",
       "      <td>1.002590</td>\n",
       "    </tr>\n",
       "    <tr>\n",
       "      <th>...</th>\n",
       "      <td>...</td>\n",
       "      <td>...</td>\n",
       "      <td>...</td>\n",
       "      <td>...</td>\n",
       "      <td>...</td>\n",
       "      <td>...</td>\n",
       "      <td>...</td>\n",
       "      <td>...</td>\n",
       "      <td>...</td>\n",
       "      <td>...</td>\n",
       "      <td>...</td>\n",
       "      <td>...</td>\n",
       "      <td>...</td>\n",
       "      <td>...</td>\n",
       "      <td>...</td>\n",
       "      <td>...</td>\n",
       "      <td>...</td>\n",
       "      <td>...</td>\n",
       "      <td>...</td>\n",
       "      <td>...</td>\n",
       "      <td>...</td>\n",
       "    </tr>\n",
       "    <tr>\n",
       "      <th>7556</th>\n",
       "      <td>2.603755</td>\n",
       "      <td>10.732066</td>\n",
       "      <td>6.487406</td>\n",
       "      <td>4.803228</td>\n",
       "      <td>8.059999</td>\n",
       "      <td>6.532139</td>\n",
       "      <td>11.868120</td>\n",
       "      <td>3.188364</td>\n",
       "      <td>4.365157</td>\n",
       "      <td>3.366943</td>\n",
       "      <td>...</td>\n",
       "      <td>5.761296</td>\n",
       "      <td>6.972638</td>\n",
       "      <td>3.855032</td>\n",
       "      <td>5.957047</td>\n",
       "      <td>5.370806</td>\n",
       "      <td>6.725805</td>\n",
       "      <td>4.151356</td>\n",
       "      <td>4.774081</td>\n",
       "      <td>5.285311</td>\n",
       "      <td>5.050783</td>\n",
       "    </tr>\n",
       "    <tr>\n",
       "      <th>7557</th>\n",
       "      <td>2.612370</td>\n",
       "      <td>10.755127</td>\n",
       "      <td>6.481146</td>\n",
       "      <td>4.806965</td>\n",
       "      <td>7.995125</td>\n",
       "      <td>6.523640</td>\n",
       "      <td>11.929847</td>\n",
       "      <td>3.189932</td>\n",
       "      <td>4.389738</td>\n",
       "      <td>3.337491</td>\n",
       "      <td>...</td>\n",
       "      <td>5.776118</td>\n",
       "      <td>6.926793</td>\n",
       "      <td>3.861685</td>\n",
       "      <td>5.952282</td>\n",
       "      <td>5.401850</td>\n",
       "      <td>6.741401</td>\n",
       "      <td>4.136505</td>\n",
       "      <td>4.770876</td>\n",
       "      <td>5.290480</td>\n",
       "      <td>5.070955</td>\n",
       "    </tr>\n",
       "    <tr>\n",
       "      <th>7558</th>\n",
       "      <td>2.620217</td>\n",
       "      <td>10.732497</td>\n",
       "      <td>6.451440</td>\n",
       "      <td>4.785360</td>\n",
       "      <td>8.024698</td>\n",
       "      <td>6.516870</td>\n",
       "      <td>11.867101</td>\n",
       "      <td>3.200715</td>\n",
       "      <td>4.407584</td>\n",
       "      <td>3.359400</td>\n",
       "      <td>...</td>\n",
       "      <td>5.727291</td>\n",
       "      <td>6.902370</td>\n",
       "      <td>3.842478</td>\n",
       "      <td>5.951338</td>\n",
       "      <td>5.411612</td>\n",
       "      <td>6.794785</td>\n",
       "      <td>4.127932</td>\n",
       "      <td>4.818275</td>\n",
       "      <td>5.329913</td>\n",
       "      <td>5.036021</td>\n",
       "    </tr>\n",
       "    <tr>\n",
       "      <th>7559</th>\n",
       "      <td>2.640916</td>\n",
       "      <td>10.669018</td>\n",
       "      <td>6.446063</td>\n",
       "      <td>4.809021</td>\n",
       "      <td>8.000601</td>\n",
       "      <td>6.522424</td>\n",
       "      <td>11.959355</td>\n",
       "      <td>3.223660</td>\n",
       "      <td>4.413569</td>\n",
       "      <td>3.347799</td>\n",
       "      <td>...</td>\n",
       "      <td>5.715453</td>\n",
       "      <td>6.966552</td>\n",
       "      <td>3.846082</td>\n",
       "      <td>5.973877</td>\n",
       "      <td>5.374930</td>\n",
       "      <td>6.799107</td>\n",
       "      <td>4.143575</td>\n",
       "      <td>4.814114</td>\n",
       "      <td>5.320136</td>\n",
       "      <td>5.073745</td>\n",
       "    </tr>\n",
       "    <tr>\n",
       "      <th>7560</th>\n",
       "      <td>2.656991</td>\n",
       "      <td>10.686659</td>\n",
       "      <td>6.401711</td>\n",
       "      <td>4.791432</td>\n",
       "      <td>8.018476</td>\n",
       "      <td>6.505481</td>\n",
       "      <td>11.967033</td>\n",
       "      <td>3.245110</td>\n",
       "      <td>4.381243</td>\n",
       "      <td>3.344737</td>\n",
       "      <td>...</td>\n",
       "      <td>5.697983</td>\n",
       "      <td>6.958278</td>\n",
       "      <td>3.875256</td>\n",
       "      <td>5.967103</td>\n",
       "      <td>5.387811</td>\n",
       "      <td>6.798360</td>\n",
       "      <td>4.115897</td>\n",
       "      <td>4.858087</td>\n",
       "      <td>5.278518</td>\n",
       "      <td>5.065445</td>\n",
       "    </tr>\n",
       "  </tbody>\n",
       "</table>\n",
       "<p>7561 rows × 500 columns</p>\n",
       "</div>"
      ],
      "text/plain": [
       "           0          1         2         3         4         5          6    \\\n",
       "0     1.000000   1.000000  1.000000  1.000000  1.000000  1.000000   1.000000   \n",
       "1     1.005965   1.003465  1.005652  1.000725  0.988517  1.000207   1.005923   \n",
       "2     1.003506   1.002299  1.008008  0.999973  0.997194  1.004915   1.009342   \n",
       "3     1.001611   1.001315  1.012094  0.989581  0.996521  1.003315   1.004902   \n",
       "4     1.002696   1.006545  1.016261  0.996615  1.007138  1.011160   1.015270   \n",
       "...        ...        ...       ...       ...       ...       ...        ...   \n",
       "7556  2.603755  10.732066  6.487406  4.803228  8.059999  6.532139  11.868120   \n",
       "7557  2.612370  10.755127  6.481146  4.806965  7.995125  6.523640  11.929847   \n",
       "7558  2.620217  10.732497  6.451440  4.785360  8.024698  6.516870  11.867101   \n",
       "7559  2.640916  10.669018  6.446063  4.809021  8.000601  6.522424  11.959355   \n",
       "7560  2.656991  10.686659  6.401711  4.791432  8.018476  6.505481  11.967033   \n",
       "\n",
       "           7         8         9    ...       490       491       492  \\\n",
       "0     1.000000  1.000000  1.000000  ...  1.000000  1.000000  1.000000   \n",
       "1     0.996122  1.007993  0.994909  ...  1.001718  0.996294  1.006644   \n",
       "2     0.999078  1.011153  0.989631  ...  1.000314  0.989105  1.017084   \n",
       "3     1.005763  1.015606  0.994031  ...  0.997358  1.003481  1.017095   \n",
       "4     1.001609  1.025534  0.993806  ...  1.002392  1.000053  1.021404   \n",
       "...        ...       ...       ...  ...       ...       ...       ...   \n",
       "7556  3.188364  4.365157  3.366943  ...  5.761296  6.972638  3.855032   \n",
       "7557  3.189932  4.389738  3.337491  ...  5.776118  6.926793  3.861685   \n",
       "7558  3.200715  4.407584  3.359400  ...  5.727291  6.902370  3.842478   \n",
       "7559  3.223660  4.413569  3.347799  ...  5.715453  6.966552  3.846082   \n",
       "7560  3.245110  4.381243  3.344737  ...  5.697983  6.958278  3.875256   \n",
       "\n",
       "           493       494       495       496       497       498       499  \n",
       "0     1.000000  1.000000  1.000000  1.000000  1.000000  1.000000  1.000000  \n",
       "1     0.997983  0.998601  0.999680  1.002781  1.003246  0.996152  0.999369  \n",
       "2     0.990368  1.002019  1.000558  1.016246  1.002387  0.997167  1.000145  \n",
       "3     0.984592  1.000186  1.005292  1.020600  1.013888  1.005673  1.002221  \n",
       "4     0.982564  0.997561  1.005474  1.020080  1.013476  1.002056  1.002590  \n",
       "...        ...       ...       ...       ...       ...       ...       ...  \n",
       "7556  5.957047  5.370806  6.725805  4.151356  4.774081  5.285311  5.050783  \n",
       "7557  5.952282  5.401850  6.741401  4.136505  4.770876  5.290480  5.070955  \n",
       "7558  5.951338  5.411612  6.794785  4.127932  4.818275  5.329913  5.036021  \n",
       "7559  5.973877  5.374930  6.799107  4.143575  4.814114  5.320136  5.073745  \n",
       "7560  5.967103  5.387811  6.798360  4.115897  4.858087  5.278518  5.065445  \n",
       "\n",
       "[7561 rows x 500 columns]"
      ]
     },
     "execution_count": 43,
     "metadata": {},
     "output_type": "execute_result"
    }
   ],
   "source": [
    "# Run the Monte Carlo simulation to forecast 30 years cumulative returns\n",
    "thirty_year_simulation.calc_cumulative_return()"
   ]
  },
  {
   "cell_type": "code",
   "execution_count": 44,
   "metadata": {},
   "outputs": [
    {
     "data": {
      "text/plain": [
       "<AxesSubplot:title={'center':'500 Simulations of Cumulative Portfolio Return Trajectories Over the Next 7560 Trading Days.'}>"
      ]
     },
     "execution_count": 44,
     "metadata": {},
     "output_type": "execute_result"
    },
    {
     "data": {
      "image/png": "[encoded data removed]",
      "text/plain": [
       "<Figure size 432x288 with 1 Axes>"
      ]
     },
     "metadata": {
      "needs_background": "light"
     },
     "output_type": "display_data"
    }
   ],
   "source": [
    "# Visualize the 30-year Monte Carlo simulation by creating an\n",
    "# overlay line plot\n",
    "thirty_year_simulation.plot_simulation()"
   ]
  },
  {
   "cell_type": "markdown",
   "metadata": {},
   "source": [
    "#### Step 3: Plot the probability distribution of the Monte Carlo simulation."
   ]
  },
  {
   "cell_type": "code",
   "execution_count": 45,
   "metadata": {},
   "outputs": [
    {
     "data": {
      "text/plain": [
       "<AxesSubplot:title={'center':'Distribution of Final Cumuluative Returns Across All 500 Simulations'}, ylabel='Frequency'>"
      ]
     },
     "execution_count": 45,
     "metadata": {},
     "output_type": "execute_result"
    },
    {
     "data": {
      "image/png": "[encoded data removed]",
      "text/plain": [
       "<Figure size 432x288 with 1 Axes>"
      ]
     },
     "metadata": {
      "needs_background": "light"
     },
     "output_type": "display_data"
    }
   ],
   "source": [
    "# Visualize the probability distribution of the 30-year Monte Carlo simulation \n",
    "# by plotting a histogram\n",
    "thirty_year_simulation.plot_distribution()"
   ]
  },
  {
   "cell_type": "markdown",
   "metadata": {},
   "source": [
    "#### Step 4: Generate the summary statistics for the Monte Carlo simulation."
   ]
  },
  {
   "cell_type": "code",
   "execution_count": 49,
   "metadata": {},
   "outputs": [
    {
     "data": {
      "text/plain": [
       "count           500.000000\n",
       "mean              6.084460\n",
       "std               2.783622\n",
       "min               1.383595\n",
       "25%               4.204908\n",
       "50%               5.437877\n",
       "75%               7.314800\n",
       "max              20.342412\n",
       "95% CI Lower      2.453391\n",
       "95% CI Upper     12.985593\n",
       "Name: 7560, dtype: float64"
      ]
     },
     "execution_count": 49,
     "metadata": {},
     "output_type": "execute_result"
    }
   ],
   "source": [
    "# Generate summary statistics from the 30-year Monte Carlo simulation results\n",
    "# Save the results as a variable\n",
    "sum_stats = thirty_year_simulation.summarize_cumulative_return()\n",
    "\n",
    "# Review the 30-year Monte Carlo summary statistics\n",
    "sum_stats"
   ]
  },
  {
   "cell_type": "markdown",
   "metadata": {},
   "source": [
    "### Analyze the Retirement Portfolio Forecasts\n",
    "\n",
    "Using the current value of only the stock and bond portion of the member's portfolio and the summary statistics that you generated from the Monte Carlo simulation, answer the following question in your Jupyter notebook:\n",
    "\n",
    "-  What are the lower and upper bounds for the expected value of the portfolio with a 95% confidence interval? 95% lower bound: 2.453391. 95% upper bound: 12.985593\n"
   ]
  },
  {
   "cell_type": "code",
   "execution_count": 52,
   "metadata": {},
   "outputs": [
    {
     "data": {
      "text/plain": [
       "array([864.06146595])"
      ]
     },
     "execution_count": 52,
     "metadata": {},
     "output_type": "execute_result"
    }
   ],
   "source": [
    "# Print the current balance of the stock and bond portion of the members portfolio\n",
    "mean = 6.084460\n",
    "bal_sandb = ((mean * agg_value) +  (mean* spy_value))/500\n",
    "bal_sandb"
   ]
  },
  {
   "cell_type": "code",
   "execution_count": 53,
   "metadata": {},
   "outputs": [
    {
     "name": "stdout",
     "output_type": "stream",
     "text": [
      "There is a 95% chance that an initial investment of $12,000 in the portfolio over the next 10 years will end within in the range of $29440.7 and $155827.11.\n"
     ]
    }
   ],
   "source": [
    "# Use the lower and upper `95%` confidence intervals to calculate the range of the possible outcomes for the current stock/bond portfolio\n",
    "ci_lower= 2.453391\n",
    "ci_higher = 12.985593\n",
    "\n",
    "tbl = thirty_year_simulation.summarize_cumulative_return()\n",
    "ci_lower_thirty_cumulative_return = round(tbl[8]*12000,2)\n",
    "\n",
    "ci_upper_thirty_cumulative_return = round(tbl[9]*12000,2)\n",
    "\n",
    "\n",
    "# Print the result of your calculations\n",
    "print(f\"There is a 95% chance that an initial investment of $12,000 in the portfolio\"\n",
    "      f\" over the next 10 years will end within in the range of\"\n",
    "      f\" ${ci_lower_thirty_cumulative_return} and ${ci_upper_thirty_cumulative_return }.\")"
   ]
  },
  {
   "cell_type": "markdown",
   "metadata": {},
   "source": [
    "### Forecast Cumulative Returns in 10 Years\n",
    "\n",
    "The CTO of the credit union is impressed with your work on these planning tools but wonders if 30 years is a long time to wait until retirement. So, your next task is to adjust the retirement portfolio and run a new Monte Carlo simulation to find out if the changes will allow members to retire earlier.\n",
    "\n",
    "For this new Monte Carlo simulation, do the following: \n",
    "\n",
    "- Forecast the cumulative returns for 10 years from now. Because of the shortened investment horizon (30 years to 10 years), the portfolio needs to invest more heavily in the riskier asset&mdash;that is, stock&mdash;to help accumulate wealth for retirement. \n",
    "\n",
    "- Adjust the weights of the retirement portfolio so that the composition for the Monte Carlo simulation consists of 20% bonds and 80% stocks. \n",
    "\n",
    "- Run the simulation over 500 samples, and use the same data that the API call to Alpaca generated.\n",
    "\n",
    "- Based on the new Monte Carlo simulation, answer the following questions in your Jupyter notebook:\n",
    "\n",
    "    - Using the current value of only the stock and bond portion of the member's portfolio and the summary statistics that you generated from the new Monte Carlo simulation, what are the lower and upper bounds for the expected value of the portfolio (with the new weights) with a 95% confidence interval?\n",
    "\n",
    "    - Will weighting the portfolio more heavily toward stocks allow the credit union members to retire after only 10 years?\n"
   ]
  },
  {
   "cell_type": "code",
   "execution_count": 56,
   "metadata": {},
   "outputs": [
    {
     "data": {
      "text/html": [
       "<div>\n",
       "<style scoped>\n",
       "    .dataframe tbody tr th:only-of-type {\n",
       "        vertical-align: middle;\n",
       "    }\n",
       "\n",
       "    .dataframe tbody tr th {\n",
       "        vertical-align: top;\n",
       "    }\n",
       "\n",
       "    .dataframe thead tr th {\n",
       "        text-align: left;\n",
       "    }\n",
       "\n",
       "    .dataframe thead tr:last-of-type th {\n",
       "        text-align: right;\n",
       "    }\n",
       "</style>\n",
       "<table border=\"1\" class=\"dataframe\">\n",
       "  <thead>\n",
       "    <tr>\n",
       "      <th></th>\n",
       "      <th colspan=\"6\" halign=\"left\">AGG</th>\n",
       "      <th colspan=\"6\" halign=\"left\">SPY</th>\n",
       "    </tr>\n",
       "    <tr>\n",
       "      <th></th>\n",
       "      <th>open</th>\n",
       "      <th>high</th>\n",
       "      <th>low</th>\n",
       "      <th>close</th>\n",
       "      <th>volume</th>\n",
       "      <th>daily_return</th>\n",
       "      <th>open</th>\n",
       "      <th>high</th>\n",
       "      <th>low</th>\n",
       "      <th>close</th>\n",
       "      <th>volume</th>\n",
       "      <th>daily_return</th>\n",
       "    </tr>\n",
       "    <tr>\n",
       "      <th>time</th>\n",
       "      <th></th>\n",
       "      <th></th>\n",
       "      <th></th>\n",
       "      <th></th>\n",
       "      <th></th>\n",
       "      <th></th>\n",
       "      <th></th>\n",
       "      <th></th>\n",
       "      <th></th>\n",
       "      <th></th>\n",
       "      <th></th>\n",
       "      <th></th>\n",
       "    </tr>\n",
       "  </thead>\n",
       "  <tbody>\n",
       "    <tr>\n",
       "      <th>2016-08-17 00:00:00-04:00</th>\n",
       "      <td>112.45</td>\n",
       "      <td>112.6600</td>\n",
       "      <td>112.3600</td>\n",
       "      <td>112.580</td>\n",
       "      <td>3136737.0</td>\n",
       "      <td>NaN</td>\n",
       "      <td>NaN</td>\n",
       "      <td>NaN</td>\n",
       "      <td>NaN</td>\n",
       "      <td>NaN</td>\n",
       "      <td>NaN</td>\n",
       "      <td>NaN</td>\n",
       "    </tr>\n",
       "    <tr>\n",
       "      <th>2016-08-18 00:00:00-04:00</th>\n",
       "      <td>112.64</td>\n",
       "      <td>112.7799</td>\n",
       "      <td>112.5350</td>\n",
       "      <td>112.705</td>\n",
       "      <td>1814107.0</td>\n",
       "      <td>0.001110</td>\n",
       "      <td>218.3300</td>\n",
       "      <td>218.90</td>\n",
       "      <td>218.21</td>\n",
       "      <td>218.87</td>\n",
       "      <td>42850145.0</td>\n",
       "      <td>NaN</td>\n",
       "    </tr>\n",
       "    <tr>\n",
       "      <th>2016-08-19 00:00:00-04:00</th>\n",
       "      <td>112.53</td>\n",
       "      <td>112.6200</td>\n",
       "      <td>112.3900</td>\n",
       "      <td>112.490</td>\n",
       "      <td>2961016.0</td>\n",
       "      <td>-0.001908</td>\n",
       "      <td>218.3100</td>\n",
       "      <td>218.75</td>\n",
       "      <td>217.74</td>\n",
       "      <td>218.57</td>\n",
       "      <td>52238224.0</td>\n",
       "      <td>-0.001371</td>\n",
       "    </tr>\n",
       "    <tr>\n",
       "      <th>2016-08-22 00:00:00-04:00</th>\n",
       "      <td>112.66</td>\n",
       "      <td>112.7380</td>\n",
       "      <td>112.5600</td>\n",
       "      <td>112.650</td>\n",
       "      <td>1647564.0</td>\n",
       "      <td>0.001422</td>\n",
       "      <td>218.2700</td>\n",
       "      <td>218.80</td>\n",
       "      <td>217.83</td>\n",
       "      <td>218.50</td>\n",
       "      <td>48628907.0</td>\n",
       "      <td>-0.000320</td>\n",
       "    </tr>\n",
       "    <tr>\n",
       "      <th>2016-08-23 00:00:00-04:00</th>\n",
       "      <td>112.78</td>\n",
       "      <td>112.8250</td>\n",
       "      <td>112.6301</td>\n",
       "      <td>112.690</td>\n",
       "      <td>2197732.0</td>\n",
       "      <td>0.000355</td>\n",
       "      <td>219.2500</td>\n",
       "      <td>219.60</td>\n",
       "      <td>218.90</td>\n",
       "      <td>218.94</td>\n",
       "      <td>41981207.0</td>\n",
       "      <td>0.002014</td>\n",
       "    </tr>\n",
       "    <tr>\n",
       "      <th>...</th>\n",
       "      <td>...</td>\n",
       "      <td>...</td>\n",
       "      <td>...</td>\n",
       "      <td>...</td>\n",
       "      <td>...</td>\n",
       "      <td>...</td>\n",
       "      <td>...</td>\n",
       "      <td>...</td>\n",
       "      <td>...</td>\n",
       "      <td>...</td>\n",
       "      <td>...</td>\n",
       "      <td>...</td>\n",
       "    </tr>\n",
       "    <tr>\n",
       "      <th>2020-08-03 00:00:00-04:00</th>\n",
       "      <td>119.37</td>\n",
       "      <td>119.4000</td>\n",
       "      <td>119.1903</td>\n",
       "      <td>119.400</td>\n",
       "      <td>17837420.0</td>\n",
       "      <td>-0.001338</td>\n",
       "      <td>328.3200</td>\n",
       "      <td>329.62</td>\n",
       "      <td>327.73</td>\n",
       "      <td>328.76</td>\n",
       "      <td>71741125.0</td>\n",
       "      <td>0.006768</td>\n",
       "    </tr>\n",
       "    <tr>\n",
       "      <th>2020-08-04 00:00:00-04:00</th>\n",
       "      <td>119.42</td>\n",
       "      <td>119.6300</td>\n",
       "      <td>119.4200</td>\n",
       "      <td>119.630</td>\n",
       "      <td>21512268.0</td>\n",
       "      <td>0.001926</td>\n",
       "      <td>327.8600</td>\n",
       "      <td>330.06</td>\n",
       "      <td>327.86</td>\n",
       "      <td>330.03</td>\n",
       "      <td>73684427.0</td>\n",
       "      <td>0.003863</td>\n",
       "    </tr>\n",
       "    <tr>\n",
       "      <th>2020-08-05 00:00:00-04:00</th>\n",
       "      <td>119.39</td>\n",
       "      <td>119.4900</td>\n",
       "      <td>119.3100</td>\n",
       "      <td>119.400</td>\n",
       "      <td>34175883.0</td>\n",
       "      <td>-0.001923</td>\n",
       "      <td>331.4700</td>\n",
       "      <td>332.39</td>\n",
       "      <td>331.18</td>\n",
       "      <td>332.06</td>\n",
       "      <td>72846458.0</td>\n",
       "      <td>0.006151</td>\n",
       "    </tr>\n",
       "    <tr>\n",
       "      <th>2020-08-06 00:00:00-04:00</th>\n",
       "      <td>119.62</td>\n",
       "      <td>119.7300</td>\n",
       "      <td>119.5300</td>\n",
       "      <td>119.580</td>\n",
       "      <td>9009216.0</td>\n",
       "      <td>0.001508</td>\n",
       "      <td>331.4799</td>\n",
       "      <td>334.46</td>\n",
       "      <td>331.13</td>\n",
       "      <td>334.31</td>\n",
       "      <td>76900649.0</td>\n",
       "      <td>0.006776</td>\n",
       "    </tr>\n",
       "    <tr>\n",
       "      <th>2020-08-07 00:00:00-04:00</th>\n",
       "      <td>119.66</td>\n",
       "      <td>119.7300</td>\n",
       "      <td>119.3950</td>\n",
       "      <td>119.445</td>\n",
       "      <td>8830420.0</td>\n",
       "      <td>-0.001129</td>\n",
       "      <td>333.2800</td>\n",
       "      <td>334.88</td>\n",
       "      <td>332.30</td>\n",
       "      <td>334.55</td>\n",
       "      <td>98710236.0</td>\n",
       "      <td>0.000718</td>\n",
       "    </tr>\n",
       "  </tbody>\n",
       "</table>\n",
       "<p>1001 rows × 12 columns</p>\n",
       "</div>"
      ],
      "text/plain": [
       "                              AGG                                           \\\n",
       "                             open      high       low    close      volume   \n",
       "time                                                                         \n",
       "2016-08-17 00:00:00-04:00  112.45  112.6600  112.3600  112.580   3136737.0   \n",
       "2016-08-18 00:00:00-04:00  112.64  112.7799  112.5350  112.705   1814107.0   \n",
       "2016-08-19 00:00:00-04:00  112.53  112.6200  112.3900  112.490   2961016.0   \n",
       "2016-08-22 00:00:00-04:00  112.66  112.7380  112.5600  112.650   1647564.0   \n",
       "2016-08-23 00:00:00-04:00  112.78  112.8250  112.6301  112.690   2197732.0   \n",
       "...                           ...       ...       ...      ...         ...   \n",
       "2020-08-03 00:00:00-04:00  119.37  119.4000  119.1903  119.400  17837420.0   \n",
       "2020-08-04 00:00:00-04:00  119.42  119.6300  119.4200  119.630  21512268.0   \n",
       "2020-08-05 00:00:00-04:00  119.39  119.4900  119.3100  119.400  34175883.0   \n",
       "2020-08-06 00:00:00-04:00  119.62  119.7300  119.5300  119.580   9009216.0   \n",
       "2020-08-07 00:00:00-04:00  119.66  119.7300  119.3950  119.445   8830420.0   \n",
       "\n",
       "                                             SPY                          \\\n",
       "                          daily_return      open    high     low   close   \n",
       "time                                                                       \n",
       "2016-08-17 00:00:00-04:00          NaN       NaN     NaN     NaN     NaN   \n",
       "2016-08-18 00:00:00-04:00     0.001110  218.3300  218.90  218.21  218.87   \n",
       "2016-08-19 00:00:00-04:00    -0.001908  218.3100  218.75  217.74  218.57   \n",
       "2016-08-22 00:00:00-04:00     0.001422  218.2700  218.80  217.83  218.50   \n",
       "2016-08-23 00:00:00-04:00     0.000355  219.2500  219.60  218.90  218.94   \n",
       "...                                ...       ...     ...     ...     ...   \n",
       "2020-08-03 00:00:00-04:00    -0.001338  328.3200  329.62  327.73  328.76   \n",
       "2020-08-04 00:00:00-04:00     0.001926  327.8600  330.06  327.86  330.03   \n",
       "2020-08-05 00:00:00-04:00    -0.001923  331.4700  332.39  331.18  332.06   \n",
       "2020-08-06 00:00:00-04:00     0.001508  331.4799  334.46  331.13  334.31   \n",
       "2020-08-07 00:00:00-04:00    -0.001129  333.2800  334.88  332.30  334.55   \n",
       "\n",
       "                                                    \n",
       "                               volume daily_return  \n",
       "time                                                \n",
       "2016-08-17 00:00:00-04:00         NaN          NaN  \n",
       "2016-08-18 00:00:00-04:00  42850145.0          NaN  \n",
       "2016-08-19 00:00:00-04:00  52238224.0    -0.001371  \n",
       "2016-08-22 00:00:00-04:00  48628907.0    -0.000320  \n",
       "2016-08-23 00:00:00-04:00  41981207.0     0.002014  \n",
       "...                               ...          ...  \n",
       "2020-08-03 00:00:00-04:00  71741125.0     0.006768  \n",
       "2020-08-04 00:00:00-04:00  73684427.0     0.003863  \n",
       "2020-08-05 00:00:00-04:00  72846458.0     0.006151  \n",
       "2020-08-06 00:00:00-04:00  76900649.0     0.006776  \n",
       "2020-08-07 00:00:00-04:00  98710236.0     0.000718  \n",
       "\n",
       "[1001 rows x 12 columns]"
      ]
     },
     "execution_count": 56,
     "metadata": {},
     "output_type": "execute_result"
    }
   ],
   "source": [
    "# Configure a Monte Carlo simulation to forecast 10 years cumulative returns\n",
    "# The weights should be split 20% to AGG and 80% to SPY.\n",
    "# Run 500 samples.\n",
    "ten_year_simulation = MCSimulation(\n",
    "    portfolio_data=df_longer,\n",
    "    weights=[0.80, 0.20],\n",
    "    num_simulation=500,\n",
    "    num_trading_days=252*10,\n",
    ")\n",
    "# Review the simulation input data\n",
    "ten_year_simulation.portfolio_data\n",
    "\n"
   ]
  },
  {
   "cell_type": "code",
   "execution_count": 60,
   "metadata": {},
   "outputs": [
    {
     "name": "stdout",
     "output_type": "stream",
     "text": [
      "Running Monte Carlo simulation number 0.\n",
      "Running Monte Carlo simulation number 10.\n",
      "Running Monte Carlo simulation number 20.\n",
      "Running Monte Carlo simulation number 30.\n",
      "Running Monte Carlo simulation number 40.\n",
      "Running Monte Carlo simulation number 50.\n",
      "Running Monte Carlo simulation number 60.\n",
      "Running Monte Carlo simulation number 70.\n",
      "Running Monte Carlo simulation number 80.\n",
      "Running Monte Carlo simulation number 90.\n",
      "Running Monte Carlo simulation number 100.\n",
      "Running Monte Carlo simulation number 110.\n",
      "Running Monte Carlo simulation number 120.\n",
      "Running Monte Carlo simulation number 130.\n",
      "Running Monte Carlo simulation number 140.\n",
      "Running Monte Carlo simulation number 150.\n",
      "Running Monte Carlo simulation number 160.\n",
      "Running Monte Carlo simulation number 170.\n",
      "Running Monte Carlo simulation number 180.\n",
      "Running Monte Carlo simulation number 190.\n",
      "Running Monte Carlo simulation number 200.\n",
      "Running Monte Carlo simulation number 210.\n",
      "Running Monte Carlo simulation number 220.\n",
      "Running Monte Carlo simulation number 230.\n",
      "Running Monte Carlo simulation number 240.\n",
      "Running Monte Carlo simulation number 250.\n",
      "Running Monte Carlo simulation number 260.\n",
      "Running Monte Carlo simulation number 270.\n",
      "Running Monte Carlo simulation number 280.\n",
      "Running Monte Carlo simulation number 290.\n",
      "Running Monte Carlo simulation number 300.\n",
      "Running Monte Carlo simulation number 310.\n",
      "Running Monte Carlo simulation number 320.\n",
      "Running Monte Carlo simulation number 330.\n",
      "Running Monte Carlo simulation number 340.\n",
      "Running Monte Carlo simulation number 350.\n",
      "Running Monte Carlo simulation number 360.\n",
      "Running Monte Carlo simulation number 370.\n",
      "Running Monte Carlo simulation number 380.\n",
      "Running Monte Carlo simulation number 390.\n",
      "Running Monte Carlo simulation number 400.\n",
      "Running Monte Carlo simulation number 410.\n",
      "Running Monte Carlo simulation number 420.\n",
      "Running Monte Carlo simulation number 430.\n",
      "Running Monte Carlo simulation number 440.\n",
      "Running Monte Carlo simulation number 450.\n",
      "Running Monte Carlo simulation number 460.\n",
      "Running Monte Carlo simulation number 470.\n",
      "Running Monte Carlo simulation number 480.\n",
      "Running Monte Carlo simulation number 490.\n"
     ]
    },
    {
     "data": {
      "text/html": [
       "<div>\n",
       "<style scoped>\n",
       "    .dataframe tbody tr th:only-of-type {\n",
       "        vertical-align: middle;\n",
       "    }\n",
       "\n",
       "    .dataframe tbody tr th {\n",
       "        vertical-align: top;\n",
       "    }\n",
       "\n",
       "    .dataframe thead th {\n",
       "        text-align: right;\n",
       "    }\n",
       "</style>\n",
       "<table border=\"1\" class=\"dataframe\">\n",
       "  <thead>\n",
       "    <tr style=\"text-align: right;\">\n",
       "      <th></th>\n",
       "      <th>0</th>\n",
       "      <th>1</th>\n",
       "      <th>2</th>\n",
       "      <th>3</th>\n",
       "      <th>4</th>\n",
       "      <th>5</th>\n",
       "      <th>6</th>\n",
       "      <th>7</th>\n",
       "      <th>8</th>\n",
       "      <th>9</th>\n",
       "      <th>...</th>\n",
       "      <th>490</th>\n",
       "      <th>491</th>\n",
       "      <th>492</th>\n",
       "      <th>493</th>\n",
       "      <th>494</th>\n",
       "      <th>495</th>\n",
       "      <th>496</th>\n",
       "      <th>497</th>\n",
       "      <th>498</th>\n",
       "      <th>499</th>\n",
       "    </tr>\n",
       "  </thead>\n",
       "  <tbody>\n",
       "    <tr>\n",
       "      <th>0</th>\n",
       "      <td>1.000000</td>\n",
       "      <td>1.000000</td>\n",
       "      <td>1.000000</td>\n",
       "      <td>1.000000</td>\n",
       "      <td>1.000000</td>\n",
       "      <td>1.000000</td>\n",
       "      <td>1.000000</td>\n",
       "      <td>1.000000</td>\n",
       "      <td>1.000000</td>\n",
       "      <td>1.000000</td>\n",
       "      <td>...</td>\n",
       "      <td>1.000000</td>\n",
       "      <td>1.000000</td>\n",
       "      <td>1.000000</td>\n",
       "      <td>1.000000</td>\n",
       "      <td>1.000000</td>\n",
       "      <td>1.000000</td>\n",
       "      <td>1.000000</td>\n",
       "      <td>1.000000</td>\n",
       "      <td>1.000000</td>\n",
       "      <td>1.000000</td>\n",
       "    </tr>\n",
       "    <tr>\n",
       "      <th>1</th>\n",
       "      <td>1.003453</td>\n",
       "      <td>1.002250</td>\n",
       "      <td>0.998921</td>\n",
       "      <td>0.999619</td>\n",
       "      <td>0.999699</td>\n",
       "      <td>1.000693</td>\n",
       "      <td>0.995922</td>\n",
       "      <td>1.004954</td>\n",
       "      <td>0.998146</td>\n",
       "      <td>1.007889</td>\n",
       "      <td>...</td>\n",
       "      <td>1.003640</td>\n",
       "      <td>0.999733</td>\n",
       "      <td>1.002167</td>\n",
       "      <td>1.001981</td>\n",
       "      <td>0.997628</td>\n",
       "      <td>0.996946</td>\n",
       "      <td>0.999586</td>\n",
       "      <td>0.996895</td>\n",
       "      <td>0.999377</td>\n",
       "      <td>0.998119</td>\n",
       "    </tr>\n",
       "    <tr>\n",
       "      <th>2</th>\n",
       "      <td>0.999381</td>\n",
       "      <td>1.002688</td>\n",
       "      <td>0.996943</td>\n",
       "      <td>1.004246</td>\n",
       "      <td>0.995598</td>\n",
       "      <td>1.003421</td>\n",
       "      <td>0.997294</td>\n",
       "      <td>1.002136</td>\n",
       "      <td>1.003585</td>\n",
       "      <td>1.010691</td>\n",
       "      <td>...</td>\n",
       "      <td>0.996963</td>\n",
       "      <td>0.995512</td>\n",
       "      <td>1.002152</td>\n",
       "      <td>0.997834</td>\n",
       "      <td>0.993384</td>\n",
       "      <td>0.992048</td>\n",
       "      <td>0.997746</td>\n",
       "      <td>1.003417</td>\n",
       "      <td>0.997822</td>\n",
       "      <td>1.002666</td>\n",
       "    </tr>\n",
       "    <tr>\n",
       "      <th>3</th>\n",
       "      <td>0.994010</td>\n",
       "      <td>1.004495</td>\n",
       "      <td>0.997986</td>\n",
       "      <td>0.999932</td>\n",
       "      <td>0.995626</td>\n",
       "      <td>0.998030</td>\n",
       "      <td>0.997466</td>\n",
       "      <td>0.994349</td>\n",
       "      <td>1.008295</td>\n",
       "      <td>1.012600</td>\n",
       "      <td>...</td>\n",
       "      <td>0.998388</td>\n",
       "      <td>0.993056</td>\n",
       "      <td>1.005590</td>\n",
       "      <td>0.997760</td>\n",
       "      <td>0.997761</td>\n",
       "      <td>0.991751</td>\n",
       "      <td>0.995359</td>\n",
       "      <td>1.001663</td>\n",
       "      <td>1.001911</td>\n",
       "      <td>1.002589</td>\n",
       "    </tr>\n",
       "    <tr>\n",
       "      <th>4</th>\n",
       "      <td>1.001370</td>\n",
       "      <td>1.001624</td>\n",
       "      <td>1.002714</td>\n",
       "      <td>0.994338</td>\n",
       "      <td>0.998319</td>\n",
       "      <td>0.997380</td>\n",
       "      <td>0.997292</td>\n",
       "      <td>0.994378</td>\n",
       "      <td>1.015521</td>\n",
       "      <td>1.014245</td>\n",
       "      <td>...</td>\n",
       "      <td>1.003793</td>\n",
       "      <td>0.993993</td>\n",
       "      <td>1.008120</td>\n",
       "      <td>0.997219</td>\n",
       "      <td>0.998160</td>\n",
       "      <td>0.987956</td>\n",
       "      <td>0.998025</td>\n",
       "      <td>1.003450</td>\n",
       "      <td>1.003018</td>\n",
       "      <td>1.007765</td>\n",
       "    </tr>\n",
       "    <tr>\n",
       "      <th>...</th>\n",
       "      <td>...</td>\n",
       "      <td>...</td>\n",
       "      <td>...</td>\n",
       "      <td>...</td>\n",
       "      <td>...</td>\n",
       "      <td>...</td>\n",
       "      <td>...</td>\n",
       "      <td>...</td>\n",
       "      <td>...</td>\n",
       "      <td>...</td>\n",
       "      <td>...</td>\n",
       "      <td>...</td>\n",
       "      <td>...</td>\n",
       "      <td>...</td>\n",
       "      <td>...</td>\n",
       "      <td>...</td>\n",
       "      <td>...</td>\n",
       "      <td>...</td>\n",
       "      <td>...</td>\n",
       "      <td>...</td>\n",
       "      <td>...</td>\n",
       "    </tr>\n",
       "    <tr>\n",
       "      <th>2516</th>\n",
       "      <td>1.588551</td>\n",
       "      <td>1.392365</td>\n",
       "      <td>1.584376</td>\n",
       "      <td>1.197200</td>\n",
       "      <td>1.488020</td>\n",
       "      <td>1.641678</td>\n",
       "      <td>1.556536</td>\n",
       "      <td>2.586979</td>\n",
       "      <td>1.892270</td>\n",
       "      <td>1.590184</td>\n",
       "      <td>...</td>\n",
       "      <td>1.470739</td>\n",
       "      <td>1.363564</td>\n",
       "      <td>1.218983</td>\n",
       "      <td>1.356963</td>\n",
       "      <td>1.909073</td>\n",
       "      <td>1.204748</td>\n",
       "      <td>1.746865</td>\n",
       "      <td>1.434323</td>\n",
       "      <td>1.099381</td>\n",
       "      <td>1.267995</td>\n",
       "    </tr>\n",
       "    <tr>\n",
       "      <th>2517</th>\n",
       "      <td>1.595552</td>\n",
       "      <td>1.395310</td>\n",
       "      <td>1.581197</td>\n",
       "      <td>1.199555</td>\n",
       "      <td>1.485256</td>\n",
       "      <td>1.637458</td>\n",
       "      <td>1.552192</td>\n",
       "      <td>2.596936</td>\n",
       "      <td>1.879896</td>\n",
       "      <td>1.590301</td>\n",
       "      <td>...</td>\n",
       "      <td>1.468502</td>\n",
       "      <td>1.361942</td>\n",
       "      <td>1.225012</td>\n",
       "      <td>1.359124</td>\n",
       "      <td>1.908968</td>\n",
       "      <td>1.205707</td>\n",
       "      <td>1.734925</td>\n",
       "      <td>1.436993</td>\n",
       "      <td>1.091357</td>\n",
       "      <td>1.274886</td>\n",
       "    </tr>\n",
       "    <tr>\n",
       "      <th>2518</th>\n",
       "      <td>1.595078</td>\n",
       "      <td>1.396138</td>\n",
       "      <td>1.596326</td>\n",
       "      <td>1.202795</td>\n",
       "      <td>1.493489</td>\n",
       "      <td>1.629125</td>\n",
       "      <td>1.554254</td>\n",
       "      <td>2.615540</td>\n",
       "      <td>1.875768</td>\n",
       "      <td>1.587069</td>\n",
       "      <td>...</td>\n",
       "      <td>1.467116</td>\n",
       "      <td>1.366807</td>\n",
       "      <td>1.223602</td>\n",
       "      <td>1.363991</td>\n",
       "      <td>1.908220</td>\n",
       "      <td>1.202724</td>\n",
       "      <td>1.732605</td>\n",
       "      <td>1.433871</td>\n",
       "      <td>1.089971</td>\n",
       "      <td>1.273508</td>\n",
       "    </tr>\n",
       "    <tr>\n",
       "      <th>2519</th>\n",
       "      <td>1.592617</td>\n",
       "      <td>1.396764</td>\n",
       "      <td>1.592297</td>\n",
       "      <td>1.201975</td>\n",
       "      <td>1.496311</td>\n",
       "      <td>1.632492</td>\n",
       "      <td>1.548402</td>\n",
       "      <td>2.612070</td>\n",
       "      <td>1.900112</td>\n",
       "      <td>1.588996</td>\n",
       "      <td>...</td>\n",
       "      <td>1.466156</td>\n",
       "      <td>1.369248</td>\n",
       "      <td>1.227364</td>\n",
       "      <td>1.367475</td>\n",
       "      <td>1.919965</td>\n",
       "      <td>1.200447</td>\n",
       "      <td>1.725393</td>\n",
       "      <td>1.429556</td>\n",
       "      <td>1.084397</td>\n",
       "      <td>1.280393</td>\n",
       "    </tr>\n",
       "    <tr>\n",
       "      <th>2520</th>\n",
       "      <td>1.596744</td>\n",
       "      <td>1.397948</td>\n",
       "      <td>1.581285</td>\n",
       "      <td>1.204907</td>\n",
       "      <td>1.498096</td>\n",
       "      <td>1.635941</td>\n",
       "      <td>1.545345</td>\n",
       "      <td>2.608899</td>\n",
       "      <td>1.901156</td>\n",
       "      <td>1.585820</td>\n",
       "      <td>...</td>\n",
       "      <td>1.465024</td>\n",
       "      <td>1.375831</td>\n",
       "      <td>1.230789</td>\n",
       "      <td>1.366366</td>\n",
       "      <td>1.908927</td>\n",
       "      <td>1.199042</td>\n",
       "      <td>1.731790</td>\n",
       "      <td>1.432729</td>\n",
       "      <td>1.085249</td>\n",
       "      <td>1.271857</td>\n",
       "    </tr>\n",
       "  </tbody>\n",
       "</table>\n",
       "<p>2521 rows × 500 columns</p>\n",
       "</div>"
      ],
      "text/plain": [
       "           0         1         2         3         4         5         6    \\\n",
       "0     1.000000  1.000000  1.000000  1.000000  1.000000  1.000000  1.000000   \n",
       "1     1.003453  1.002250  0.998921  0.999619  0.999699  1.000693  0.995922   \n",
       "2     0.999381  1.002688  0.996943  1.004246  0.995598  1.003421  0.997294   \n",
       "3     0.994010  1.004495  0.997986  0.999932  0.995626  0.998030  0.997466   \n",
       "4     1.001370  1.001624  1.002714  0.994338  0.998319  0.997380  0.997292   \n",
       "...        ...       ...       ...       ...       ...       ...       ...   \n",
       "2516  1.588551  1.392365  1.584376  1.197200  1.488020  1.641678  1.556536   \n",
       "2517  1.595552  1.395310  1.581197  1.199555  1.485256  1.637458  1.552192   \n",
       "2518  1.595078  1.396138  1.596326  1.202795  1.493489  1.629125  1.554254   \n",
       "2519  1.592617  1.396764  1.592297  1.201975  1.496311  1.632492  1.548402   \n",
       "2520  1.596744  1.397948  1.581285  1.204907  1.498096  1.635941  1.545345   \n",
       "\n",
       "           7         8         9    ...       490       491       492  \\\n",
       "0     1.000000  1.000000  1.000000  ...  1.000000  1.000000  1.000000   \n",
       "1     1.004954  0.998146  1.007889  ...  1.003640  0.999733  1.002167   \n",
       "2     1.002136  1.003585  1.010691  ...  0.996963  0.995512  1.002152   \n",
       "3     0.994349  1.008295  1.012600  ...  0.998388  0.993056  1.005590   \n",
       "4     0.994378  1.015521  1.014245  ...  1.003793  0.993993  1.008120   \n",
       "...        ...       ...       ...  ...       ...       ...       ...   \n",
       "2516  2.586979  1.892270  1.590184  ...  1.470739  1.363564  1.218983   \n",
       "2517  2.596936  1.879896  1.590301  ...  1.468502  1.361942  1.225012   \n",
       "2518  2.615540  1.875768  1.587069  ...  1.467116  1.366807  1.223602   \n",
       "2519  2.612070  1.900112  1.588996  ...  1.466156  1.369248  1.227364   \n",
       "2520  2.608899  1.901156  1.585820  ...  1.465024  1.375831  1.230789   \n",
       "\n",
       "           493       494       495       496       497       498       499  \n",
       "0     1.000000  1.000000  1.000000  1.000000  1.000000  1.000000  1.000000  \n",
       "1     1.001981  0.997628  0.996946  0.999586  0.996895  0.999377  0.998119  \n",
       "2     0.997834  0.993384  0.992048  0.997746  1.003417  0.997822  1.002666  \n",
       "3     0.997760  0.997761  0.991751  0.995359  1.001663  1.001911  1.002589  \n",
       "4     0.997219  0.998160  0.987956  0.998025  1.003450  1.003018  1.007765  \n",
       "...        ...       ...       ...       ...       ...       ...       ...  \n",
       "2516  1.356963  1.909073  1.204748  1.746865  1.434323  1.099381  1.267995  \n",
       "2517  1.359124  1.908968  1.205707  1.734925  1.436993  1.091357  1.274886  \n",
       "2518  1.363991  1.908220  1.202724  1.732605  1.433871  1.089971  1.273508  \n",
       "2519  1.367475  1.919965  1.200447  1.725393  1.429556  1.084397  1.280393  \n",
       "2520  1.366366  1.908927  1.199042  1.731790  1.432729  1.085249  1.271857  \n",
       "\n",
       "[2521 rows x 500 columns]"
      ]
     },
     "execution_count": 60,
     "metadata": {},
     "output_type": "execute_result"
    }
   ],
   "source": [
    "# Run the Monte Carlo simulation to forecast 10 years cumulative returns\n",
    "ten_year_simulation.calc_cumulative_return()\n"
   ]
  },
  {
   "cell_type": "code",
   "execution_count": 61,
   "metadata": {},
   "outputs": [
    {
     "data": {
      "image/png": "[encoded data removed]",
      "text/plain": [
       "<Figure size 432x288 with 1 Axes>"
      ]
     },
     "metadata": {
      "needs_background": "light"
     },
     "output_type": "display_data"
    }
   ],
   "source": [
    "# Visualize the 10-year Monte Carlo simulation by creating an\n",
    "# overlay line plot\n",
    "overlay_plot = ten_year_simulation.plot_simulation()"
   ]
  },
  {
   "cell_type": "code",
   "execution_count": 76,
   "metadata": {},
   "outputs": [
    {
     "data": {
      "text/plain": [
       "<AxesSubplot:title={'center':'Distribution of Final Cumuluative Returns Across All 500 Simulations'}, ylabel='Frequency'>"
      ]
     },
     "execution_count": 76,
     "metadata": {},
     "output_type": "execute_result"
    },
    {
     "data": {
      "image/png": "[encoded data removed]",
      "text/plain": [
       "<Figure size 432x288 with 1 Axes>"
      ]
     },
     "metadata": {
      "needs_background": "light"
     },
     "output_type": "display_data"
    }
   ],
   "source": [
    "# Visualize the probability distribution of the 10-year Monte Carlo simulation \n",
    "# by plotting a histogram\n",
    "ten_year_simulation.plot_distribution()"
   ]
  },
  {
   "cell_type": "code",
   "execution_count": 79,
   "metadata": {},
   "outputs": [
    {
     "data": {
      "text/plain": [
       "count           500.000000\n",
       "mean              1.465177\n",
       "std               0.276759\n",
       "min               0.834834\n",
       "25%               1.259763\n",
       "50%               1.431327\n",
       "75%               1.627773\n",
       "max               2.608899\n",
       "95% CI Lower      1.020931\n",
       "95% CI Upper      2.058271\n",
       "Name: 2520, dtype: float64"
      ]
     },
     "execution_count": 79,
     "metadata": {},
     "output_type": "execute_result"
    }
   ],
   "source": [
    "# Generate summary statistics from the 10-year Monte Carlo simulation results\n",
    "# Save the results as a variable\n",
    "ten_yr_SS = ten_year_simulation.summarize_cumulative_return()\n",
    "\n",
    "\n",
    "# Review the 10-year Monte Carlo summary statistics\n",
    "ten_yr_SS "
   ]
  },
  {
   "cell_type": "markdown",
   "metadata": {},
   "source": [
    "### Answer the following questions:"
   ]
  },
  {
   "cell_type": "markdown",
   "metadata": {},
   "source": [
    "#### Question: Using the current value of only the stock and bond portion of the member's portfolio and the summary statistics that you generated from the new Monte Carlo simulation, what are the lower and upper bounds for the expected value of the portfolio (with the new weights) with a 95% confidence interval?"
   ]
  },
  {
   "cell_type": "code",
   "execution_count": 80,
   "metadata": {},
   "outputs": [
    {
     "data": {
      "text/plain": [
       "array([208.07154398])"
      ]
     },
     "execution_count": 80,
     "metadata": {},
     "output_type": "execute_result"
    }
   ],
   "source": [
    "# Print the current balance of the stock and bond portion of the members portfolio\n",
    "mean = 1.465177\n",
    "bal_sandb = ((mean * agg_value) +  (mean* spy_value))/500\n",
    "bal_sandb"
   ]
  },
  {
   "cell_type": "code",
   "execution_count": 81,
   "metadata": {},
   "outputs": [
    {
     "name": "stdout",
     "output_type": "stream",
     "text": [
      "There is a 95% chance that an initial investment of $12,000 in the portfolio over the next 10 years will end within in the range of $12251.17 and $24699.25.\n"
     ]
    }
   ],
   "source": [
    "# Use the lower and upper `95%` confidence intervals to calculate the range of the possible outcomes for the current stock/bond portfolio\n",
    "ci_lower_ten_cumulative_return = 1.020931\n",
    "ci_upper_ten_cumulative_return = 2.058271\n",
    "\n",
    "tbl = ten_year_simulation.summarize_cumulative_return()\n",
    "ci_lower_ten_cumulative_return = round(ci_lower_ten_cumulative_return*12000,2)\n",
    "\n",
    "ci_upper_ten_cumulative_return = round(ci_upper_ten_cumulative_return*12000,2)\n",
    "\n",
    "\n",
    "# Print the result of your calculations\n",
    "\n",
    "print(f\"There is a 95% chance that an initial investment of $12,000 in the portfolio\"\n",
    "      f\" over the next 10 years will end within in the range of\"\n",
    "      f\" ${ci_lower_ten_cumulative_return} and ${ci_upper_ten_cumulative_return }.\")"
   ]
  },
  {
   "cell_type": "markdown",
   "metadata": {},
   "source": [
    "#### Question: Will weighting the portfolio more heavily to stocks allow the credit union members to retire after only 10 years?"
   ]
  },
  {
   "cell_type": "raw",
   "metadata": {},
   "source": [
    "**Answer** # Yes, but could potentially make more from weighing portfolio more heavily on bonds for a longer time period."
   ]
  }
 ],
 "metadata": {
  "kernelspec": {
   "display_name": "Python 3",
   "language": "python",
   "name": "python3"
  },
  "language_info": {
   "codemirror_mode": {
    "name": "ipython",
    "version": 3
   },
   "file_extension": ".py",
   "mimetype": "text/x-python",
   "name": "python",
   "nbconvert_exporter": "python",
   "pygments_lexer": "ipython3",
   "version": "3.8.8"
  }
 },
 "nbformat": 4,
 "nbformat_minor": 4
}
